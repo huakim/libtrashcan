{
  "cells": [
    {
      "cell_type": "markdown",
      "metadata": {
        "id": "view-in-github",
        "colab_type": "text"
      },
      "source": [
        "<a href=\"https://colab.research.google.com/github/huakim/libtrashcan/blob/master/01_tensor_v2_blank.ipynb\" target=\"_parent\"><img src=\"https://colab.research.google.com/assets/colab-badge.svg\" alt=\"Open In Colab\"/></a>"
      ]
    },
    {
      "cell_type": "markdown",
      "metadata": {
        "id": "_gE94V3G1RCx"
      },
      "source": [
        "# 01. Знакомство с `torch.Tensor`\n",
        "\n",
        "V 0.1 04.02.2021"
      ]
    },
    {
      "cell_type": "markdown",
      "metadata": {
        "id": "TlWOXn0f1RC7"
      },
      "source": [
        "---"
      ]
    },
    {
      "cell_type": "markdown",
      "metadata": {
        "id": "lZfJ1FRM1RC8"
      },
      "source": [
        "При решении данных задач не подразумевается использования циклов или генераторов Python, если в задании не сказано обратного. Решение должно опираться на использование функционала библиотеки `torch`.\n",
        "\n",
        "[PyTorch documentation](https://pytorch.org/docs/stable/#pytorch-documentation)"
      ]
    },
    {
      "cell_type": "code",
      "execution_count": null,
      "metadata": {
        "id": "b3AW8rF-1RC9"
      },
      "outputs": [],
      "source": [
        "import torch"
      ]
    },
    {
      "cell_type": "code",
      "execution_count": null,
      "metadata": {
        "id": "_ZbR8iNXNn8K"
      },
      "outputs": [],
      "source": [
        "a = torch.tensor([\n",
        "    [0, 1],\n",
        "    [2, 3],\n",
        "])"
      ]
    },
    {
      "cell_type": "code",
      "execution_count": null,
      "metadata": {
        "id": "EySJGEqVNn8M",
        "outputId": "7e1e857b-8f90-4707-a2e0-4bf5fd4013f1"
      },
      "outputs": [
        {
          "data": {
            "text/plain": [
              "tensor([[0, 1, 0, 1, 0],\n",
              "        [2, 3, 2, 3, 2],\n",
              "        [0, 1, 0, 1, 0],\n",
              "        [2, 3, 2, 3, 2]])"
            ]
          },
          "execution_count": 57,
          "metadata": {},
          "output_type": "execute_result"
        }
      ],
      "source": [
        "torch.tensor([\n",
        "    [0, 1, 0, 1, 0],\n",
        "    [2, 3, 2, 3, 2],\n",
        "    [0, 1, 0, 1, 0],\n",
        "    [2, 3, 2, 3, 2],\n",
        "])"
      ]
    },
    {
      "cell_type": "markdown",
      "metadata": {
        "id": "vow49PuE1RC9"
      },
      "source": [
        "## 1.1 Создание тензоров и выполнение базовых операций над ними\n",
        "\n",
        "[Документация по функциям для создания тензоров](https://pytorch.org/docs/stable/torch.html#creation-ops)\n",
        "\n",
        "[Документация по функциям для работы с индексами](https://pytorch.org/docs/stable/torch.html#indexing-slicing-joining-mutating-ops)"
      ]
    },
    {
      "cell_type": "markdown",
      "metadata": {
        "id": "wBIwO1SB1RC-"
      },
      "source": [
        "1.1.1 Создайте двумерный тензор размера (8, 8). Используя как можно меньше операций, добейтесь расстановки кодов \"шахматных фигур\".\n",
        "\n",
        "Ожидаемый результат:\n",
        "\n",
        "```\n",
        "[[-4., -3., -2., -6., -5., -2., -3., -4.],\n",
        " [-1., -1., -1., -1., -1., -1., -1., -1.],\n",
        " [0., 0., 0., 0., 0., 0., 0., 0.],\n",
        " [0., 0., 0., 0., 0., 0., 0., 0.],\n",
        " [0., 0., 0., 0., 0., 0., 0., 0.],\n",
        " [0., 0., 0., 0., 0., 0., 0., 0.],\n",
        " [1., 1., 1., 1., 1., 1., 1., 1.],\n",
        " [4., 3., 2., 6., 5., 2., 3., 4.]]\n",
        "\n",
        "```"
      ]
    },
    {
      "cell_type": "code",
      "execution_count": null,
      "metadata": {
        "id": "5LsjUOQMNn8S",
        "outputId": "2efeb528-82cc-4e42-9ea2-8a85deeed30c"
      },
      "outputs": [
        {
          "data": {
            "text/plain": [
              "tensor([[-4., -3., -2., -6., -5., -2., -3., -4.],\n",
              "        [-1., -1., -1., -1., -1., -1., -1., -1.],\n",
              "        [ 0.,  0.,  0.,  0.,  0.,  0.,  0.,  0.],\n",
              "        [ 0.,  0.,  0.,  0.,  0.,  0.,  0.,  0.],\n",
              "        [ 0.,  0.,  0.,  0.,  0.,  0.,  0.,  0.],\n",
              "        [ 0.,  0.,  0.,  0.,  0.,  0.,  0.,  0.],\n",
              "        [ 1.,  1.,  1.,  1.,  1.,  1.,  1.,  1.],\n",
              "        [ 4.,  3.,  2.,  6.,  5.,  2.,  3.,  4.]])"
            ]
          },
          "execution_count": 64,
          "metadata": {},
          "output_type": "execute_result"
        }
      ],
      "source": [
        "a = torch.zeros((8, 8))\n",
        "\n",
        "a[1, :] = -1\n",
        "a[-2, :] = 1\n",
        "a[-1, :] = torch.tensor([4., 3., 2., 6., 5., 2., 3., 4.])\n",
        "a[0, :] = -a[-1, :]\n",
        "a"
      ]
    },
    {
      "cell_type": "markdown",
      "metadata": {
        "id": "20x5RE1V1RC_"
      },
      "source": [
        "1.1.2 Средствами `torch` рассчитать произведения четных чисел от 2 до 20 на ближайшие к ним бОльшие нечетные числа."
      ]
    },
    {
      "cell_type": "code",
      "execution_count": null,
      "metadata": {
        "id": "iOYERfLUNn8X",
        "outputId": "f4aa9207-5b75-41d5-f9dd-c0a20b9db10f"
      },
      "outputs": [
        {
          "data": {
            "text/plain": [
              "tensor([  6,  20,  42,  72, 110, 156, 210, 272, 342, 420])"
            ]
          },
          "execution_count": 65,
          "metadata": {},
          "output_type": "execute_result"
        }
      ],
      "source": [
        "a = torch.arange(2, 21, 2)\n",
        "a * (a + 1)"
      ]
    },
    {
      "cell_type": "markdown",
      "metadata": {
        "id": "N_-t5GRM1RC_"
      },
      "source": [
        "1.1.3 Создать тензор размера 11x7 вида: [[1, 2, 3, ..., 7], [11, 12, 13, ..., 17], [21, 22, 23, ..., 27], ..., [101, 102, 103, ..., 107]]"
      ]
    },
    {
      "cell_type": "code",
      "execution_count": null,
      "metadata": {
        "id": "Ilavk4kDNn8a",
        "outputId": "dd343180-a7c6-4a85-c247-2f23d4035299"
      },
      "outputs": [
        {
          "data": {
            "text/plain": [
              "tensor([[  1,   2,   3,   4,   5,   6,   7],\n",
              "        [ 11,  12,  13,  14,  15,  16,  17],\n",
              "        [ 21,  22,  23,  24,  25,  26,  27],\n",
              "        [ 31,  32,  33,  34,  35,  36,  37],\n",
              "        [ 41,  42,  43,  44,  45,  46,  47],\n",
              "        [ 51,  52,  53,  54,  55,  56,  57],\n",
              "        [ 61,  62,  63,  64,  65,  66,  67],\n",
              "        [ 71,  72,  73,  74,  75,  76,  77],\n",
              "        [ 81,  82,  83,  84,  85,  86,  87],\n",
              "        [ 91,  92,  93,  94,  95,  96,  97],\n",
              "        [101, 102, 103, 104, 105, 106, 107]])"
            ]
          },
          "execution_count": 68,
          "metadata": {},
          "output_type": "execute_result"
        }
      ],
      "source": [
        "torch.arange(1, 111).reshape(11, -1)[:, :-3]"
      ]
    },
    {
      "cell_type": "code",
      "execution_count": null,
      "metadata": {
        "id": "fuoCyU_qNn8c",
        "outputId": "c7eb0664-0b22-4081-dabd-4531a0169869"
      },
      "outputs": [
        {
          "data": {
            "text/plain": [
              "tensor([[  1,   2,   3,   4,   5,   6,   7],\n",
              "        [ 11,  12,  13,  14,  15,  16,  17],\n",
              "        [ 21,  22,  23,  24,  25,  26,  27],\n",
              "        [ 31,  32,  33,  34,  35,  36,  37],\n",
              "        [ 41,  42,  43,  44,  45,  46,  47],\n",
              "        [ 51,  52,  53,  54,  55,  56,  57],\n",
              "        [ 61,  62,  63,  64,  65,  66,  67],\n",
              "        [ 71,  72,  73,  74,  75,  76,  77],\n",
              "        [ 81,  82,  83,  84,  85,  86,  87],\n",
              "        [ 91,  92,  93,  94,  95,  96,  97],\n",
              "        [101, 102, 103, 104, 105, 106, 107]])"
            ]
          },
          "execution_count": 71,
          "metadata": {},
          "output_type": "execute_result"
        }
      ],
      "source": [
        "row = torch.arange(1, 8).reshape(1, -1)\n",
        "col = torch.arange(0, 101, 10).reshape(-1, 1)\n",
        "row.shape, col.shape, (row + col).shape\n",
        "row + col"
      ]
    },
    {
      "cell_type": "code",
      "execution_count": null,
      "metadata": {
        "id": "tcmuHZ4NNn8e",
        "outputId": "05c12ba9-2544-4a8f-84af-3277a41980bc"
      },
      "outputs": [
        {
          "name": "stdout",
          "output_type": "stream",
          "text": [
            "[1, 2, 3, 4, 5, 6, 7]\n",
            "[11, 12, 13, 14, 15, 16, 17]\n",
            "[21, 22, 23, 24, 25, 26, 27]\n",
            "[31, 32, 33, 34, 35, 36, 37]\n",
            "[41, 42, 43, 44, 45, 46, 47]\n",
            "[51, 52, 53, 54, 55, 56, 57]\n",
            "[61, 62, 63, 64, 65, 66, 67]\n",
            "[71, 72, 73, 74, 75, 76, 77]\n",
            "[81, 82, 83, 84, 85, 86, 87]\n",
            "[91, 92, 93, 94, 95, 96, 97]\n",
            "[101, 102, 103, 104, 105, 106, 107]\n"
          ]
        }
      ],
      "source": [
        "for j in range(0, 101, 10):\n",
        "    row = []\n",
        "    for i in range(1, 8):\n",
        "        row.append(i + j)\n",
        "    print(row)"
      ]
    },
    {
      "cell_type": "markdown",
      "metadata": {
        "id": "oxVeUiHR1RC_"
      },
      "source": [
        "1.1.4 Написать функцию, которая для целых значений `n` и `m` будет возвращать тензор размера `n`x`m`, заполненный текстурой размера 2x2, состоящей из следующих значений:\n",
        "\n",
        "```\n",
        "0 1\n",
        "\n",
        "2 3\n",
        "\n",
        "```\n",
        "\n",
        "Пример для n = 4 и m = 5:\n",
        "\n",
        "```\n",
        "0 1 0 1 0\n",
        "\n",
        "2 3 2 3 2\n",
        "\n",
        "0 1 0 1 0\n",
        "\n",
        "2 3 2 3 2\n",
        "```"
      ]
    },
    {
      "cell_type": "code",
      "execution_count": null,
      "metadata": {
        "colab": {
          "base_uri": "https://localhost:8080/"
        },
        "id": "CkaIk27tNn8h",
        "outputId": "6f7673d9-fc7c-4a35-ee10-3d2214c3e25c"
      },
      "outputs": [
        {
          "output_type": "stream",
          "name": "stdout",
          "text": [
            "tensor([[0, 1, 0, 1, 0, 1, 0],\n",
            "        [2, 3, 2, 3, 2, 3, 2],\n",
            "        [0, 1, 0, 1, 0, 1, 0],\n",
            "        [2, 3, 2, 3, 2, 3, 2],\n",
            "        [0, 1, 0, 1, 0, 1, 0]])\n"
          ]
        }
      ],
      "source": [
        "\n",
        "\n",
        "import torch\n",
        "\n",
        "def create_texture_tensor(n, m):\n",
        "    \"\"\"\n",
        "    Создает тензор размера n x m, заполненный повторяющейся текстурой размера 2 x 2.\n",
        "\n",
        "    Параметры:\n",
        "    n (int): Высота тензора.\n",
        "    m (int): Ширина тензора.\n",
        "\n",
        "    Возвращает:\n",
        "    torch.Tensor: Тензор размера n x m, заполненный текстурой.\n",
        "    \"\"\"\n",
        "    texture = torch.tensor([[0, 1],\n",
        "                           [2, 3]])\n",
        "\n",
        "    tensor = texture.repeat(n//2, m//2)\n",
        "\n",
        "    if n % 2 > 0:\n",
        "      tensor = torch.cat((tensor, tensor[:1, :]), dim=0)\n",
        "\n",
        "\n",
        "    if m % 2 > 0:\n",
        "      tensor = torch.cat((tensor, tensor[:, :1]), dim=1)\n",
        "\n",
        "    return tensor\n",
        "tensor = create_texture_tensor(5, 7)\n",
        "print(tensor)"
      ]
    },
    {
      "cell_type": "markdown",
      "metadata": {
        "id": "WH9hxJse1RDA"
      },
      "source": [
        "1.1.5 Сгенерировать двумерный тензор `t` размерности (4, 7), состоящий из случайных действительных чисел, равномерно распределенных в дипазоне от 0 до 20. Нормализовать значения массива с помощью преобразования вида $ax+b$ так, что после нормализации максимальный элемент масива будет равен 1.0, минимальный 0.0"
      ]
    },
    {
      "cell_type": "code",
      "source": [
        "import torch\n",
        "\n",
        "# Шаг 1: Сгенерировать двумерный тензор размерности (4, 7) из случайных чисел в диапазоне от 0 до 20\n",
        "t = torch.rand(4, 7) * 20\n",
        "\n",
        "# Шаг 2: Нормализовать значения тензора так, чтобы максимальное значение было 1.0, а минимальное 0.0\n",
        "t_min = torch.min(t)\n",
        "t_max = torch.max(t)\n",
        "t_norm = (t - t_min) / (t_max - t_min)\n",
        "\n",
        "print(\"Исходный тензор:\")\n",
        "print(t)\n",
        "print(\"\\nНормализованный тензор:\")\n",
        "print(t_norm)"
      ],
      "metadata": {
        "colab": {
          "base_uri": "https://localhost:8080/"
        },
        "id": "9mP1TaasRC6t",
        "outputId": "587e5af8-d765-446f-8e5e-896ea2a5659c"
      },
      "execution_count": null,
      "outputs": [
        {
          "output_type": "stream",
          "name": "stdout",
          "text": [
            "Исходный тензор:\n",
            "tensor([[11.6418,  6.6682,  4.4395, 19.8342,  8.3877,  5.4045, 16.1286],\n",
            "        [ 3.5138, 11.2544, 18.4272,  3.2317,  4.3481,  2.6250,  9.1115],\n",
            "        [ 8.4480, 11.2692, 14.5261,  5.5662,  6.0312,  3.2506, 18.6661],\n",
            "        [ 9.5730,  5.6491, 17.0079,  5.2474, 18.1719, 17.9396, 19.6318]])\n",
            "\n",
            "Нормализованный тензор:\n",
            "tensor([[0.5240, 0.2349, 0.1054, 1.0000, 0.3349, 0.1615, 0.7847],\n",
            "        [0.0516, 0.5014, 0.9182, 0.0353, 0.1001, 0.0000, 0.3769],\n",
            "        [0.3384, 0.5023, 0.6916, 0.1709, 0.1979, 0.0364, 0.9321],\n",
            "        [0.4037, 0.1757, 0.8358, 0.1524, 0.9034, 0.8899, 0.9882]])\n"
          ]
        }
      ]
    },
    {
      "cell_type": "markdown",
      "metadata": {
        "id": "vPqIeewXB-mM"
      },
      "source": [
        "[Random Sampling](https://pytorch.org/docs/stable/torch.html#random-sampling)\n",
        "\n",
        "[Distributions](https://pytorch.org/docs/stable/distributions.html)"
      ]
    },
    {
      "cell_type": "markdown",
      "metadata": {
        "id": "K_R6cwq11RDE"
      },
      "source": [
        "1.1.6 Задать два двумерных тензора `ar1` и `ar2` размерности (4, 7), состоящих из случайных целых чисел в пределах от 0 до 10. Построить двумерный тензор размерности (4, 7), каждый элемент которого представляет собой максимум из двух значений, находящихся на аналогичной позиции в тензорах `ar1`, `ar2`.\n",
        "\n",
        "[Reductions ops](https://pytorch.org/docs/stable/torch.html#reduction-ops)"
      ]
    },
    {
      "cell_type": "code",
      "source": [
        "import torch\n",
        "\n",
        "# Шаг 1: Сгенерировать два тензора ar1 и ar2 размерности (4, 7) из случайных целых чисел в диапазоне от 0 до 10\n",
        "ar1 = torch.randint(0, 11, (4, 7))\n",
        "ar2 = torch.randint(0, 11, (4, 7))\n",
        "\n",
        "print(\"Тензор ar1:\")\n",
        "print(ar1)\n",
        "print(\"\\nТензор ar2:\")\n",
        "print(ar2)\n",
        "\n",
        "# Шаг 2: Построить новый тензор, где каждый элемент - максимум из соответствующих элементов ar1 и ar2\n",
        "result = torch.maximum(ar1, ar2)\n",
        "\n",
        "print(\"\\nРезультирующий тензор:\")\n",
        "print(result)"
      ],
      "metadata": {
        "colab": {
          "base_uri": "https://localhost:8080/"
        },
        "id": "t0LsYScGRYA-",
        "outputId": "cab8a81b-9fb6-4dd3-dfb1-5e928f56db1b"
      },
      "execution_count": null,
      "outputs": [
        {
          "output_type": "stream",
          "name": "stdout",
          "text": [
            "Тензор ar1:\n",
            "tensor([[ 8,  5, 10,  0,  9,  5,  8],\n",
            "        [ 7,  3,  7,  6,  0,  7,  6],\n",
            "        [ 7,  7,  6,  2,  8,  5,  5],\n",
            "        [ 0,  7,  0,  3, 10,  3,  6]])\n",
            "\n",
            "Тензор ar2:\n",
            "tensor([[5, 6, 4, 7, 0, 2, 1],\n",
            "        [1, 1, 1, 5, 9, 0, 7],\n",
            "        [2, 2, 0, 8, 9, 0, 5],\n",
            "        [5, 9, 8, 1, 7, 3, 9]])\n",
            "\n",
            "Результирующий тензор:\n",
            "tensor([[ 8,  6, 10,  7,  9,  5,  8],\n",
            "        [ 7,  3,  7,  6,  9,  7,  7],\n",
            "        [ 7,  7,  6,  8,  9,  5,  5],\n",
            "        [ 5,  9,  8,  3, 10,  3,  9]])\n"
          ]
        }
      ]
    },
    {
      "cell_type": "markdown",
      "metadata": {
        "id": "x6zmMhyKBPWQ"
      },
      "source": [
        "1.1.7 Создать тензор из 20 случайных целых чисел от 0 до 100. Получить второе сверху значение в тензоре. Определить индекс этого значения."
      ]
    },
    {
      "cell_type": "code",
      "source": [
        "import torch\n",
        "\n",
        "# Шаг 1: Создать тензор из 20 случайных целых чисел от 0 до 100\n",
        "tensor = torch.randint(0, 101, (20,))\n",
        "\n",
        "print(\"Созданный тензор:\")\n",
        "print(tensor)\n",
        "\n",
        "# Шаг 2: Получить второе сверху значение в тензоре\n",
        "sorted_tensor = torch.sort(tensor, descending=True)\n",
        "second_max_value = sorted_tensor.values[1]\n",
        "\n",
        "print(f\"Второе сверху значение: {second_max_value}\")\n",
        "\n",
        "# Шаг 3: Определить индекс этого значения\n",
        "second_max_index = torch.where(tensor == second_max_value)[0][0]\n",
        "\n",
        "print(f\"Индекс второго сверху значения: {second_max_index}\")"
      ],
      "metadata": {
        "colab": {
          "base_uri": "https://localhost:8080/"
        },
        "id": "dGL3ziIZRa09",
        "outputId": "7de6c6b3-1c7b-4ac3-802b-702949ffb7fc"
      },
      "execution_count": null,
      "outputs": [
        {
          "output_type": "stream",
          "name": "stdout",
          "text": [
            "Созданный тензор:\n",
            "tensor([34, 64, 14, 98, 27, 68, 71,  3, 94, 84, 50, 54, 72, 44,  3, 70, 56, 77,\n",
            "        60,  5])\n",
            "Второе сверху значение: 94\n",
            "Индекс второго сверху значения: 8\n"
          ]
        }
      ]
    },
    {
      "cell_type": "markdown",
      "metadata": {
        "id": "Xshsy8fD1RDE"
      },
      "source": [
        "## 1.2 Распространение"
      ]
    },
    {
      "cell_type": "markdown",
      "metadata": {
        "id": "jlP22HAJCo28"
      },
      "source": [
        "[Numpy broadcasting](https://numpy.org/devdocs/user/theory.broadcasting.html)\n",
        "\n",
        "[Torch broadcasting](https://pytorch.org/docs/stable/notes/broadcasting.html)"
      ]
    },
    {
      "cell_type": "markdown",
      "metadata": {
        "id": "uRD6-8Gd1RDF"
      },
      "source": [
        "1.2.1 Создать тензор 11x7 вида: `[[1, 2, 3, ..., 7], [11, 12, 13, ..., 17], [21, 22, 23, ..., 27], ..., [101, 102, 103, ..., 107]]`. При решении задачи применить технику распространения."
      ]
    },
    {
      "cell_type": "code",
      "source": [
        "import torch\n",
        "\n",
        "# Создание основы для тензора - тензор из чисел от 1 до 7\n",
        "base_tensor = torch.arange(1, 8)\n",
        "\n",
        "# Создание итоговго тензора 11x7 с помощью техники распространения\n",
        "result_tensor = (base_tensor.unsqueeze(0) + torch.arange(0, 110, 10).unsqueeze(1)).long()\n",
        "\n",
        "print(result_tensor)"
      ],
      "metadata": {
        "colab": {
          "base_uri": "https://localhost:8080/"
        },
        "id": "AavuNNFUSAl4",
        "outputId": "75134a87-69e8-4010-d08b-003aa2782403"
      },
      "execution_count": null,
      "outputs": [
        {
          "output_type": "stream",
          "name": "stdout",
          "text": [
            "tensor([[  1,   2,   3,   4,   5,   6,   7],\n",
            "        [ 11,  12,  13,  14,  15,  16,  17],\n",
            "        [ 21,  22,  23,  24,  25,  26,  27],\n",
            "        [ 31,  32,  33,  34,  35,  36,  37],\n",
            "        [ 41,  42,  43,  44,  45,  46,  47],\n",
            "        [ 51,  52,  53,  54,  55,  56,  57],\n",
            "        [ 61,  62,  63,  64,  65,  66,  67],\n",
            "        [ 71,  72,  73,  74,  75,  76,  77],\n",
            "        [ 81,  82,  83,  84,  85,  86,  87],\n",
            "        [ 91,  92,  93,  94,  95,  96,  97],\n",
            "        [101, 102, 103, 104, 105, 106, 107]])\n"
          ]
        }
      ]
    },
    {
      "cell_type": "markdown",
      "metadata": {
        "id": "iSY9Iday1RDF"
      },
      "source": [
        "1.2.2 Вычесть одномерный тензор `b_1d` из двухмерного тензора `a_2d`, так, чтобы каждый элемент одномерного тензора вычитался из всех элементов соответствующих строк двумерного тензора.\n",
        "\n",
        "_Пример:_\n",
        "\n",
        "Для входа:\n",
        "```python\n",
        "a_2d = torch.tensor([[3,3,3],[4,4,4],[5,5,5]])\n",
        "b_1d = torch.tensor([1,2,3])\n",
        "```\n",
        "\n",
        "Ожидается резульат:\n",
        "\n",
        "```python\n",
        "[[2 2 2]\n",
        " [2 2 2]\n",
        " [2 2 2]]\n",
        "```"
      ]
    },
    {
      "cell_type": "code",
      "source": [
        "import torch\n",
        "\n",
        "# Создаем двумерный тензор a_2d\n",
        "a_2d = torch.tensor([[1, 2, 3],\n",
        "                     [4, 5, 6],\n",
        "                     [7, 8, 9]])\n",
        "\n",
        "# Создаем одномерный тензор b_1d\n",
        "b_1d = torch.tensor([10, 20, 30])\n",
        "\n",
        "# Вычитаем b_1d из a_2d с использованием техники распространения\n",
        "result = a_2d - b_1d.unsqueeze(1)\n",
        "\n",
        "print(\"Двумерный тензор a_2d:\")\n",
        "print(a_2d)\n",
        "\n",
        "print(\"\\nОдномерный тензор b_1d:\")\n",
        "print(b_1d)\n",
        "\n",
        "print(\"\\nРезультат вычитания b_1d из a_2d:\")\n",
        "print(result)"
      ],
      "metadata": {
        "colab": {
          "base_uri": "https://localhost:8080/"
        },
        "id": "6o2rlheuSLRN",
        "outputId": "3729d3a6-a382-4aa6-a85d-df08f9952d27"
      },
      "execution_count": null,
      "outputs": [
        {
          "output_type": "stream",
          "name": "stdout",
          "text": [
            "Двумерный тензор a_2d:\n",
            "tensor([[1, 2, 3],\n",
            "        [4, 5, 6],\n",
            "        [7, 8, 9]])\n",
            "\n",
            "Одномерный тензор b_1d:\n",
            "tensor([10, 20, 30])\n",
            "\n",
            "Результат вычитания b_1d из a_2d:\n",
            "tensor([[ -9,  -8,  -7],\n",
            "        [-16, -15, -14],\n",
            "        [-23, -22, -21]])\n"
          ]
        }
      ]
    },
    {
      "cell_type": "markdown",
      "metadata": {
        "id": "dFTvPsY91RDF"
      },
      "source": [
        "## 1.3 Индексы, маскирование и прихотливое индексирование\n",
        "\n",
        "[Документация по функциям для работы с индексами](https://pytorch.org/docs/stable/torch.html#indexing-slicing-joining-mutating-ops)"
      ]
    },
    {
      "cell_type": "markdown",
      "metadata": {
        "id": "McYtDYhH1RDG"
      },
      "source": [
        "1.3.1 Получить индексы, для которых элементы тензоров `a` и `b` совпадают.\n",
        "\n",
        "_Пример:_\n",
        "\n",
        "Для входа:\n",
        "```python\n",
        "a = torch.tensor([1,2,3,2,3,4,3,4,5,6])\n",
        "b = torch.tensor([7,2,10,2,7,4,9,4,9,8])\n",
        "```\n",
        "\n",
        "Ожидается резульат:\n",
        "\n",
        "```python\n",
        "tensor([1, 3, 5, 7])\n",
        "```"
      ]
    },
    {
      "cell_type": "code",
      "execution_count": null,
      "metadata": {
        "colab": {
          "base_uri": "https://localhost:8080/"
        },
        "id": "OSjb3PiaNn8r",
        "outputId": "371bdddc-ecd5-4663-eb79-c71c807a7f26"
      },
      "outputs": [
        {
          "output_type": "stream",
          "name": "stdout",
          "text": [
            "tensor([1, 3, 5, 7])\n"
          ]
        }
      ],
      "source": [
        "import torch\n",
        "\n",
        "# Входные тензоры\n",
        "a = torch.tensor([1, 2, 3, 2, 3, 4, 3, 4, 5, 6])\n",
        "b = torch.tensor([7, 2, 10, 2, 7, 4, 9, 4, 9, 8])\n",
        "\n",
        "# Находим индексы, для которых элементы a и b совпадают\n",
        "matching_indices = torch.where(a == b)[0]\n",
        "\n",
        "print(matching_indices)"
      ]
    },
    {
      "cell_type": "markdown",
      "metadata": {
        "id": "MnBq3nfy1RDG"
      },
      "source": [
        "1.3.2 Инвертировать порядок элементов в двумерном тензоре `torch.arange(9).view(3,3)`.\n",
        "\n",
        "Ожидаемый результат:\n",
        "\n",
        "\n",
        "```python\n",
        "tensor([[8, 7, 6],\n",
        "       [5, 4, 3],\n",
        "       [2, 1, 0]])\n",
        "```"
      ]
    },
    {
      "cell_type": "code",
      "source": [
        "import torch\n",
        "\n",
        "# Создаем двумерный тензор\n",
        "a = torch.arange(9).view(3, 3)\n",
        "\n",
        "# Инвертируем порядок элементов\n",
        "result = a.flip(1)\n",
        "\n",
        "print(result)"
      ],
      "metadata": {
        "colab": {
          "base_uri": "https://localhost:8080/"
        },
        "id": "ZpkKQ2EJTB3J",
        "outputId": "93212c6a-34fe-437e-a69f-e38879151bd1"
      },
      "execution_count": null,
      "outputs": [
        {
          "output_type": "stream",
          "name": "stdout",
          "text": [
            "tensor([[2, 1, 0],\n",
            "        [5, 4, 3],\n",
            "        [8, 7, 6]])\n"
          ]
        }
      ]
    },
    {
      "cell_type": "markdown",
      "metadata": {
        "id": "tANsLnOC1RDH"
      },
      "source": [
        "1.3.3 Из входного тензора a получить только элементы, находящиеся в диапазоне от 5 до 10.\n",
        "\n",
        "_Пример:_\n",
        "\n",
        "Для входа:\n",
        "```python\n",
        "a = torch.tensor([2, 6, 1, 9, 10, 3, 27])\n",
        "```\n",
        "\n",
        "Ожидается результат:\n",
        "\n",
        "```python\n",
        "tensor([6, 9, 10])\n",
        "```"
      ]
    },
    {
      "cell_type": "code",
      "execution_count": null,
      "metadata": {
        "colab": {
          "base_uri": "https://localhost:8080/"
        },
        "id": "o1AZ0pP1Nn8u",
        "outputId": "9ee4b46a-fe45-4a64-e28e-8eca77ff9a29"
      },
      "outputs": [
        {
          "output_type": "stream",
          "name": "stdout",
          "text": [
            "tensor([ 6,  9, 10])\n"
          ]
        }
      ],
      "source": [
        "import torch\n",
        "\n",
        "# Входной тензор\n",
        "a = torch.tensor([2, 6, 1, 9, 10, 3, 27])\n",
        "\n",
        "# Получаем элементы, находящиеся в диапазоне от 5 до 10\n",
        "result = a[(a >= 5) & (a <= 10)]\n",
        "\n",
        "print(result)"
      ]
    },
    {
      "cell_type": "markdown",
      "metadata": {
        "id": "3vlK0gV21RDH"
      },
      "source": [
        "1.3.4 Поменять местами столбец 1 и 2 тензора `torch.arange(9).reshape(3,3)`"
      ]
    },
    {
      "cell_type": "code",
      "source": [
        "import torch\n",
        "\n",
        "# Создаем входной тензор\n",
        "a = torch.arange(9).reshape(3, 3)\n",
        "\n",
        "# Меняем местами столбцы 1 и 2\n",
        "result = a[:, [1, 0, 2]]\n",
        "\n",
        "print(result)"
      ],
      "metadata": {
        "colab": {
          "base_uri": "https://localhost:8080/"
        },
        "id": "zgQ9Lfa8ZLGn",
        "outputId": "e7cfe8f2-4097-4a44-8e83-d444d6667bbd"
      },
      "execution_count": null,
      "outputs": [
        {
          "output_type": "stream",
          "name": "stdout",
          "text": [
            "tensor([[1, 0, 2],\n",
            "        [4, 3, 5],\n",
            "        [7, 6, 8]])\n"
          ]
        }
      ]
    },
    {
      "cell_type": "markdown",
      "metadata": {
        "id": "cheFtWhU1RDH"
      },
      "source": [
        "1.3.5 Создать тензор 8 на 10 из случайных целых чисел из диапазона от 0 до 10 и найти в ней строку (ее индекс и вывести саму строку), в которой сумма значений минимальна."
      ]
    },
    {
      "cell_type": "code",
      "source": [
        "import torch\n",
        "\n",
        "# Создаем тензор 8x10 со случайными целыми числами от 0 до 10\n",
        "a = torch.randint(0, 11, (8, 10))\n",
        "\n",
        "# Находим строку с минимальной суммой\n",
        "row_sums = a.sum(dim=1)  # Сумма значений в каждой строке\n",
        "min_row_idx = row_sums.argmin()  # Индекс строки с минимальной суммой\n",
        "min_row = a[min_row_idx]  # Строка с минимальной суммой\n",
        "\n",
        "print(f\"Индекс строки с минимальной суммой: {min_row_idx}\")\n",
        "print(f\"Строка с минимальной суммой: {min_row}\")"
      ],
      "metadata": {
        "colab": {
          "base_uri": "https://localhost:8080/"
        },
        "id": "LKuDAa35ZS1e",
        "outputId": "ff9145a5-20c0-4b10-b87b-0d1aab0d4a8a"
      },
      "execution_count": null,
      "outputs": [
        {
          "output_type": "stream",
          "name": "stdout",
          "text": [
            "Индекс строки с минимальной суммой: 3\n",
            "Строка с минимальной суммой: tensor([5, 4, 4, 2, 1, 0, 3, 3, 6, 8])\n"
          ]
        }
      ]
    },
    {
      "cell_type": "markdown",
      "metadata": {
        "id": "grOCNU4XFE2B"
      },
      "source": [
        "1.3.6 Cоздать тензор из 20 случайных целых чисел от 0 до 100. Обрезать значения тензора (заменить значения, выходящие за диапазон, на крайние значения) снизу по значению 30, сверху по значению 70."
      ]
    },
    {
      "cell_type": "code",
      "source": [
        "import torch\n",
        "\n",
        "# Создаем тензор из 20 случайных целых чисел от 0 до 100\n",
        "tensor = torch.randint(0, 101, (20,))\n",
        "\n",
        "print(\"Исходный тензор:\")\n",
        "print(tensor)\n",
        "\n",
        "# Обрезаем значения тензора, заменяя значения ниже 30 на 30, а значения выше 70 на 70\n",
        "tensor.clamp_(min=30, max=70)\n",
        "\n",
        "print(\"\\nОбрезанный тензор:\")\n",
        "print(tensor)"
      ],
      "metadata": {
        "colab": {
          "base_uri": "https://localhost:8080/"
        },
        "id": "DUGoiT2sZYgg",
        "outputId": "1169c0b0-4d62-4774-8783-4c488453be4b"
      },
      "execution_count": null,
      "outputs": [
        {
          "output_type": "stream",
          "name": "stdout",
          "text": [
            "Исходный тензор:\n",
            "tensor([ 6, 47, 25, 89, 11,  6, 87, 52, 46,  8, 91, 79, 82,  8,  5, 45, 86, 46,\n",
            "        17,  9])\n",
            "\n",
            "Обрезанный тензор:\n",
            "tensor([30, 47, 30, 70, 30, 30, 70, 52, 46, 30, 70, 70, 70, 30, 30, 45, 70, 46,\n",
            "        30, 30])\n"
          ]
        }
      ]
    },
    {
      "cell_type": "markdown",
      "metadata": {
        "id": "HNfQjY8P1RDI"
      },
      "source": [
        "1.3.7 Создать два тензора размера 30 на 3 из случайных целых чисел из диапазона от 0 до 10 и найти все значения первого тензора, которые больше соответсвующих (по расположению) значений второго тензора. Подсчитать сумму этих значений."
      ]
    },
    {
      "cell_type": "code",
      "source": [
        "import torch\n",
        "\n",
        "# Создаем два тензора размера 30x3 со случайными целыми числами от 0 до 10\n",
        "tensor1 = torch.randint(0, 11, (30, 3))\n",
        "tensor2 = torch.randint(0, 11, (30, 3))\n",
        "\n",
        "print(\"Первый тензор:\")\n",
        "print(tensor1)\n",
        "\n",
        "print(\"\\nВторой тензор:\")\n",
        "print(tensor2)\n",
        "\n",
        "# Находим значения первого тензора, которые больше соответствующих значений второго тензора\n",
        "greater_values = tensor1[tensor1 > tensor2]\n",
        "\n",
        "# Вычисляем сумму этих значений\n",
        "sum_of_greater = greater_values.sum().item()\n",
        "\n",
        "print(f\"\\nСумма значений первого тензора, которые больше соответствующих значений второго тензора: {sum_of_greater}\")"
      ],
      "metadata": {
        "colab": {
          "base_uri": "https://localhost:8080/"
        },
        "id": "U8wFvx2jZhte",
        "outputId": "66f6b4d7-33b9-4b30-f349-235a198d5002"
      },
      "execution_count": null,
      "outputs": [
        {
          "output_type": "stream",
          "name": "stdout",
          "text": [
            "Первый тензор:\n",
            "tensor([[10,  2, 10],\n",
            "        [ 7,  7,  7],\n",
            "        [ 4,  5,  0],\n",
            "        [ 1,  4,  2],\n",
            "        [ 6,  9,  0],\n",
            "        [10,  2,  4],\n",
            "        [ 0,  2,  4],\n",
            "        [ 2,  5,  2],\n",
            "        [ 8,  4,  7],\n",
            "        [ 5,  9,  1],\n",
            "        [ 5,  9,  9],\n",
            "        [ 5,  5,  1],\n",
            "        [ 2,  5,  1],\n",
            "        [ 0,  1,  5],\n",
            "        [ 6,  3,  1],\n",
            "        [ 6, 10,  8],\n",
            "        [ 4,  3,  9],\n",
            "        [ 4,  7, 10],\n",
            "        [ 3,  6,  2],\n",
            "        [ 1,  7,  4],\n",
            "        [ 9,  3,  0],\n",
            "        [ 3,  9,  3],\n",
            "        [10,  6,  5],\n",
            "        [ 0,  5,  6],\n",
            "        [ 2,  2,  3],\n",
            "        [ 1,  4,  7],\n",
            "        [ 4,  4,  5],\n",
            "        [ 2,  9,  7],\n",
            "        [ 8, 10,  9],\n",
            "        [10,  5, 10]])\n",
            "\n",
            "Второй тензор:\n",
            "tensor([[ 3,  0,  9],\n",
            "        [ 7,  3, 10],\n",
            "        [ 2,  0,  3],\n",
            "        [ 4,  4,  6],\n",
            "        [ 7,  7,  6],\n",
            "        [ 5,  2,  8],\n",
            "        [ 2, 10,  7],\n",
            "        [ 9,  1,  6],\n",
            "        [ 9, 10,  9],\n",
            "        [ 2,  2,  4],\n",
            "        [ 7,  5,  5],\n",
            "        [ 3, 10,  6],\n",
            "        [ 1,  6,  8],\n",
            "        [ 6,  8,  0],\n",
            "        [ 8,  1,  3],\n",
            "        [ 1,  4,  2],\n",
            "        [ 3,  9,  4],\n",
            "        [ 2,  4,  4],\n",
            "        [ 3,  0,  5],\n",
            "        [ 5,  0,  1],\n",
            "        [ 5, 10,  5],\n",
            "        [ 4,  0, 10],\n",
            "        [ 5,  9,  7],\n",
            "        [ 7,  0,  0],\n",
            "        [ 9,  9,  1],\n",
            "        [ 7,  5,  6],\n",
            "        [ 8,  1,  2],\n",
            "        [ 8,  6,  3],\n",
            "        [ 7,  0,  1],\n",
            "        [ 2,  8,  3]])\n",
            "\n",
            "Сумма значений первого тензора, которые больше соответствующих значений второго тензора: 305\n"
          ]
        }
      ]
    },
    {
      "cell_type": "markdown",
      "metadata": {
        "id": "doBCxYJA1RDI"
      },
      "source": [
        "1.3.8 При помощи прихотливого индексирования для двухмерного массива размерности (20, 20), состоящего из случайных целых чисел в пределах от 0 до 10 получить массив элементов находящихся на диагонали, проходящей над основной диагональю."
      ]
    },
    {
      "cell_type": "code",
      "source": [
        "import numpy as np\n",
        "\n",
        "# Создаем двухмерный массив размерности (20, 20) со случайными целыми числами от 0 до 10\n",
        "arr = np.random.randint(0, 11, (20, 20))\n",
        "\n",
        "print(\"Исходный массив:\")\n",
        "print(arr)\n",
        "\n",
        "# Получаем массив элементов, находящихся на диагонали, проходящей над основной диагональю\n",
        "upper_diagonal = arr[np.arange(19), np.arange(1, 20)]\n",
        "\n",
        "print(\"\\nМассив элементов, находящихся на диагонали, проходящей над основной диагональю:\")\n",
        "print(upper_diagonal)"
      ],
      "metadata": {
        "colab": {
          "base_uri": "https://localhost:8080/"
        },
        "id": "IjYbQ2rTZlkb",
        "outputId": "82261566-0eae-4ec8-c4be-a8e9bf044c96"
      },
      "execution_count": null,
      "outputs": [
        {
          "output_type": "stream",
          "name": "stdout",
          "text": [
            "Исходный массив:\n",
            "[[ 2  1  4  0 10  7  3  6  8  4  3  1  5  3  8  8  4  9  4  0]\n",
            " [ 4  5  9  8  5  2  5  9  6  9  2  6  5  0  9  0  5  7  3  6]\n",
            " [ 7  9  8  5  7 10  6  8  6  7  8  5  9  2 10  2  9  7  2  1]\n",
            " [ 7  7  6  8  4  6  6  1  8  5  0  1  6 10  8  9  3  9  1  8]\n",
            " [ 3  9  1  6  9  0  5  6  4 10 10  2  2  8  7  1  5  0  4  8]\n",
            " [10  6  6  1  5  3  7  4  7  9  1  7  5  6 10  2  4  8  4  7]\n",
            " [ 9  2  2  4  6  5  5  6  5  4  4  3  0  6  1  6  5  6  1  4]\n",
            " [ 3  3  1  2  3  5  6  3  5  9  9  4  7  8  7  4  2  7  8  5]\n",
            " [ 1 10  3  1  7  8  5  2  4  2  9  4  9  1  2  0  7  3  2  7]\n",
            " [ 0  4  8  0  1  1  5  9  1  4  1  9  2  5  3  4  3  6  0  7]\n",
            " [ 2  1  1  0  8 10  5  0  3 10  1  9  1  5  7  5 10  7 10  2]\n",
            " [10  2  9  2  1  0  1  1  9  1  2  1  5  4  5  1  9  7 10  3]\n",
            " [ 2  6  8  2  5  4  0  4  2  6  7  6 10  8 10  4 10  1  5  0]\n",
            " [ 2  3  3  1  5  2  8  3  4  9  4  8  7  3  7  2  6  5  3  2]\n",
            " [ 1 10  4  6  6  6  9  6  7  5  9  3  6  1  9  9  8  3  6  4]\n",
            " [ 2  9  4  8  3  5  9  6  6  3  0  7  9  7  0  9  1  0 10  3]\n",
            " [ 3  5  9  6  0  8  2  1  9  0  7  7  1  6  1  5  0  2  4  8]\n",
            " [ 6  2  3  4  0  2  1  6  1  4  1  7  5  7  3  0  3 10  9  6]\n",
            " [ 2  1 10  0  0  6  4  5  5  3  9  0  5  2  8  2  3  4  7  7]\n",
            " [ 5  2  4  0  3  9  8 10  0  2  6 10  2  7  3  5  6  1  8  0]]\n",
            "\n",
            "Массив элементов, находящихся на диагонали, проходящей над основной диагональю:\n",
            "[1 9 5 4 0 7 6 5 2 1 9 5 8 7 9 1 2 9 7]\n"
          ]
        }
      ]
    },
    {
      "cell_type": "markdown",
      "metadata": {
        "id": "6M1lkfLp1RDJ"
      },
      "source": [
        "1.3.9 Задать два двухмерных тензора `ar1` и `ar2` размерности (5, 10), состоящих из случайных целых чисел в пределах от 0 до 10. Удвоить все значения `ar1`, которые совпадают со значениями `ar2`, расположенными на аналогичных позициях."
      ]
    },
    {
      "cell_type": "code",
      "source": [
        "import numpy as np\n",
        "\n",
        "# Создаем два двухмерных тензора ar1 и ar2 размерности (5, 10) со случайными целыми числами от 0 до 10\n",
        "ar1 = np.random.randint(0, 11, (5, 10))\n",
        "ar2 = np.random.randint(0, 11, (5, 10))\n",
        "\n",
        "print(\"Исходный тензор ar1:\")\n",
        "print(ar1)\n",
        "\n",
        "print(\"\\nИсходный тензор ar2:\")\n",
        "print(ar2)\n",
        "\n",
        "# Удваиваем значения в ar1, которые совпадают со значениями в ar2 на аналогичных позициях\n",
        "ar1[ar1 == ar2] *= 2\n",
        "\n",
        "print(\"\\nОбновленный тензор ar1:\")\n",
        "print(ar1)"
      ],
      "metadata": {
        "colab": {
          "base_uri": "https://localhost:8080/"
        },
        "id": "8MGABWYKZrIv",
        "outputId": "3c0111be-b942-4942-b7e4-8b3ef881f08d"
      },
      "execution_count": null,
      "outputs": [
        {
          "output_type": "stream",
          "name": "stdout",
          "text": [
            "Исходный тензор ar1:\n",
            "[[10  7  3  3  0  2  4  9  6  7]\n",
            " [ 5  1  9  8  3  0  5  0  7  5]\n",
            " [ 6  9  0  1  3 10  1  2  6  1]\n",
            " [ 3  2  4  9  2  4  1  8 10  8]\n",
            " [ 7  6  8  1  6 10  6  1  3  3]]\n",
            "\n",
            "Исходный тензор ar2:\n",
            "[[ 9  0  4  1  9  2  1  8  4  7]\n",
            " [ 0  5  5 10  2  0 10  1  3 10]\n",
            " [ 8  1  6  5  6  9  8  3  7  8]\n",
            " [ 1  6  7  7 10  0  4  5  5  5]\n",
            " [10  2  6  2  8  9  1  3  8  8]]\n",
            "\n",
            "Обновленный тензор ar1:\n",
            "[[10  7  3  3  0  4  4  9  6 14]\n",
            " [ 5  1  9  8  3  0  5  0  7  5]\n",
            " [ 6  9  0  1  3 10  1  2  6  1]\n",
            " [ 3  2  4  9  2  4  1  8 10  8]\n",
            " [ 7  6  8  1  6 10  6  1  3  3]]\n"
          ]
        }
      ]
    },
    {
      "cell_type": "markdown",
      "metadata": {
        "id": "Qe2oVr4p1RDJ"
      },
      "source": [
        "1.3.10 Заданы три двухмерных тензора `ar1`, `ar2` и `ar3` размерности (4, 7), состоящие из случайных целых чисел в пределах от 0 до 10. Обнулить все элементы `ar1`, которые больше соответствующих (находящихся в соответствующих позициях) элементов `ar2` и меньше соответствующих элементов `ar3`."
      ]
    },
    {
      "cell_type": "code",
      "source": [
        "import numpy as np\n",
        "\n",
        "# Создаем три двухмерных тензора ar1, ar2 и ar3 размерности (4, 7) со случайными целыми числами от 0 до 10\n",
        "ar1 = np.random.randint(0, 11, (4, 7))\n",
        "ar2 = np.random.randint(0, 11, (4, 7))\n",
        "ar3 = np.random.randint(0, 11, (4, 7))\n",
        "\n",
        "print(\"Исходный тензор ar1:\")\n",
        "print(ar1)\n",
        "\n",
        "print(\"\\nИсходный тензор ar2:\")\n",
        "print(ar2)\n",
        "\n",
        "print(\"\\nИсходный тензор ar3:\")\n",
        "print(ar3)\n",
        "\n",
        "# Обнуляем все элементы ar1, которые больше соответствующих элементов ar2 и меньше соответствующих элементов ar3\n",
        "ar1[(ar1 > ar2) & (ar1 < ar3)] = 0\n",
        "\n",
        "print(\"\\nОбновленный тензор ar1:\")\n",
        "print(ar1)"
      ],
      "metadata": {
        "colab": {
          "base_uri": "https://localhost:8080/"
        },
        "id": "-9f1oNvNZuAJ",
        "outputId": "8cedafc6-bfdd-45c4-9b8e-e00b60cb37a4"
      },
      "execution_count": null,
      "outputs": [
        {
          "output_type": "stream",
          "name": "stdout",
          "text": [
            "Исходный тензор ar1:\n",
            "[[ 5 10  9  8  6  6  6]\n",
            " [ 7  6  2  4  8  5  5]\n",
            " [ 1  8  1  1  6  3  7]\n",
            " [ 9  2  5 10  0  3  9]]\n",
            "\n",
            "Исходный тензор ar2:\n",
            "[[ 8  1  2 10  0  5 10]\n",
            " [ 2  6  3  3  1  5  9]\n",
            " [10  3  4  5  3  3  9]\n",
            " [10  2  9  1  8  8  2]]\n",
            "\n",
            "Исходный тензор ar3:\n",
            "[[5 6 1 3 9 6 2]\n",
            " [5 3 5 6 3 0 5]\n",
            " [5 3 9 7 1 6 7]\n",
            " [1 1 9 8 1 1 3]]\n",
            "\n",
            "Обновленный тензор ar1:\n",
            "[[ 5 10  9  8  0  6  6]\n",
            " [ 7  6  2  0  8  5  5]\n",
            " [ 1  8  1  1  6  3  7]\n",
            " [ 9  2  5 10  0  3  9]]\n"
          ]
        }
      ]
    },
    {
      "cell_type": "markdown",
      "metadata": {
        "id": "BTcRVeYh1RDK"
      },
      "source": [
        "1.3.11 Задан двумерный тензор `ar1` размерности (20, 5), состоящий из случайных целых чисел в пределах от 0 до 20. Определить, в каких столбцах не менее 5 раз встречается значение, максимальное по своей строке."
      ]
    },
    {
      "cell_type": "code",
      "source": [
        "import numpy as np\n",
        "\n",
        "# Создаем двумерный тензор ar1 размерности (20, 5) со случайными целыми числами от 0 до 20\n",
        "ar1 = np.random.randint(0, 21, (20, 5))\n",
        "\n",
        "print(\"Исходный тензор ar1:\")\n",
        "print(ar1)\n",
        "\n",
        "# Определяем, в каких столбцах не менее 5 раз встречается значение, максимальное по своей строке\n",
        "max_in_row = np.max(ar1, axis=1)\n",
        "count_max_in_col = np.sum(ar1 == max_in_row[:, None], axis=0)\n",
        "result_cols = np.where(count_max_in_col >= 5)[0]\n",
        "\n",
        "print(\"\\nСтолбцы, в которых не менее 5 раз встречается значение, максимальное по своей строке:\")\n",
        "print(result_cols)"
      ],
      "metadata": {
        "colab": {
          "base_uri": "https://localhost:8080/"
        },
        "id": "BDS_8jtwZz7A",
        "outputId": "f83c3054-bd88-4a36-e57c-931826f7c1c1"
      },
      "execution_count": null,
      "outputs": [
        {
          "output_type": "stream",
          "name": "stdout",
          "text": [
            "Исходный тензор ar1:\n",
            "[[ 6 13  4 19 16]\n",
            " [13  3 15  7 20]\n",
            " [ 9  6 16  1  3]\n",
            " [12  1 15  2  3]\n",
            " [20  0 11  7 10]\n",
            " [15 14  6  0  0]\n",
            " [ 6 16 18  4 11]\n",
            " [ 8  9 20  1 14]\n",
            " [18 13 19 15  4]\n",
            " [12 16 19  6 19]\n",
            " [12 18 14 18 10]\n",
            " [11  3  5 10 16]\n",
            " [ 4 19 18  2  7]\n",
            " [20 12  7 20 15]\n",
            " [18 12 14 20  1]\n",
            " [14  7 13 13  5]\n",
            " [ 1 15 13  5 11]\n",
            " [14  8 16  7 17]\n",
            " [ 6 11  7  0 10]\n",
            " [ 6  0  1 20 18]]\n",
            "\n",
            "Столбцы, в которых не менее 5 раз встречается значение, максимальное по своей строке:\n",
            "[2 3]\n"
          ]
        }
      ]
    },
    {
      "cell_type": "markdown",
      "metadata": {
        "id": "ZeYlNWNE1RDK"
      },
      "source": [
        "1.3.12 Задан двумерный тензор `ar1` размерности (4, 7), состоящий из случайных  чисел в пределах от 0 до 1. Обнулить все значения в массиве, расположенные строго правее и ниже максимального элемента массива."
      ]
    },
    {
      "cell_type": "code",
      "source": [
        "import numpy as np\n",
        "\n",
        "# Создаем двумерный тензор ar1 размерности (4, 7) со случайными числами от 0 до 1\n",
        "ar1 = np.random.rand(4, 7)\n",
        "\n",
        "print(\"Исходный тензор ar1:\")\n",
        "print(ar1)\n",
        "\n",
        "# Находим индексы максимального элемента в тензоре\n",
        "max_idx = np.unravel_index(np.argmax(ar1), ar1.shape)\n",
        "\n",
        "# Создаем маску, которая выбирает элементы, расположенные строго правее и ниже максимального элемента\n",
        "mask = np.ones_like(ar1, dtype=bool)\n",
        "mask[max_idx[0]:, max_idx[1]:] = False\n",
        "\n",
        "# Обнуляем значения, выбранные маской\n",
        "ar1[mask] = 0\n",
        "\n",
        "print(\"\\nТензор ar1 после обнуления значений, расположенных строго правее и ниже максимального элемента:\")\n",
        "print(ar1)"
      ],
      "metadata": {
        "colab": {
          "base_uri": "https://localhost:8080/"
        },
        "id": "Umb9t9oXZ7eQ",
        "outputId": "f41f52db-0e1a-407b-ee7e-0c4cc8f92a55"
      },
      "execution_count": null,
      "outputs": [
        {
          "output_type": "stream",
          "name": "stdout",
          "text": [
            "Исходный тензор ar1:\n",
            "[[0.41550978 0.05940689 0.71094683 0.75972557 0.4228176  0.40683647\n",
            "  0.8668544 ]\n",
            " [0.31890903 0.09519152 0.57279135 0.59975021 0.65700775 0.80156643\n",
            "  0.80648813]\n",
            " [0.11105251 0.19640861 0.4488077  0.20676025 0.6322316  0.68226858\n",
            "  0.82399228]\n",
            " [0.22186558 0.35208684 0.08922864 0.62020574 0.29613875 0.60478168\n",
            "  0.11062939]]\n",
            "\n",
            "Тензор ar1 после обнуления значений, расположенных строго правее и ниже максимального элемента:\n",
            "[[0.         0.         0.         0.         0.         0.\n",
            "  0.8668544 ]\n",
            " [0.         0.         0.         0.         0.         0.\n",
            "  0.80648813]\n",
            " [0.         0.         0.         0.         0.         0.\n",
            "  0.82399228]\n",
            " [0.         0.         0.         0.         0.         0.\n",
            "  0.11062939]]\n"
          ]
        }
      ]
    },
    {
      "cell_type": "markdown",
      "metadata": {
        "id": "pYxX90B11RDL"
      },
      "source": [
        "1.3.13 Построить \"one-hot encoding\" для одномерного тензора, содержащего целые числа (длина вектора заранее неизвестна, набор значений заранее неизвестен, при этом в итоговой матрице должны присутствовать столбцы для всех натуральных чисел вплоть до максимального встречающегося в исходном массиве).\n",
        "\n",
        "Пример:\n",
        "\n",
        "для тензора `torch.tensor([2, 3, 2, 2, 2, 1])`.\n",
        "\n",
        "Ожидается результат:\n",
        "\n",
        "```python\n",
        "tensor([[0., 1., 0.],\n",
        "        [0., 0., 1.],\n",
        "        [0., 1., 0.],\n",
        "        [0., 1., 0.],\n",
        "        [0., 1., 0.],\n",
        "        [1., 0., 0.]])\n",
        "```"
      ]
    },
    {
      "cell_type": "code",
      "source": [
        "import torch\n",
        "\n",
        "def one_hot_encoding(tensor):\n",
        "    # Определяем максимальное значение в тензоре\n",
        "    max_value = tensor.max().item()\n",
        "\n",
        "    # Создаем one-hot encoding матрицу\n",
        "    one_hot = torch.zeros(len(tensor), max_value+1)\n",
        "\n",
        "    # Заполняем one-hot encoding матрицу\n",
        "    one_hot.scatter_(1, tensor.unsqueeze(1), 1.)\n",
        "\n",
        "    return one_hot\n",
        "\n",
        "# Пример использования\n",
        "input_tensor = torch.tensor([2, 3, 2, 2, 2, 1])\n",
        "output_tensor = one_hot_encoding(input_tensor)\n",
        "print(output_tensor)"
      ],
      "metadata": {
        "colab": {
          "base_uri": "https://localhost:8080/"
        },
        "id": "B29hDd2LaCZJ",
        "outputId": "21601ce0-a4a4-4083-d6b7-e92c50fdba26"
      },
      "execution_count": null,
      "outputs": [
        {
          "output_type": "stream",
          "name": "stdout",
          "text": [
            "tensor([[0., 0., 1., 0.],\n",
            "        [0., 0., 0., 1.],\n",
            "        [0., 0., 1., 0.],\n",
            "        [0., 0., 1., 0.],\n",
            "        [0., 0., 1., 0.],\n",
            "        [0., 1., 0., 0.]])\n"
          ]
        }
      ]
    },
    {
      "cell_type": "markdown",
      "metadata": {
        "id": "GYU8DmNTDLN8"
      },
      "source": [
        "1.3.14 Создать тензор `arr` из 20 случайных целых чисел от 0 до 100. Найти самое частое значение в тензоре.\n",
        "Найти индексы в тензоре, соответствующие самому частому значению. Проверить, как работет алгоритм при двух значениях, имеющих наибольшую встречаемость, предложить приемлемое поведение алгоритма для этого случая."
      ]
    },
    {
      "cell_type": "code",
      "source": [
        "import torch\n",
        "\n",
        "# Создаем тензор из 20 случайных целых чисел от 0 до 100\n",
        "arr = torch.randint(0, 100, (20,))\n",
        "print(\"Исходный тензор:\", arr)\n",
        "\n",
        "# Находим самое частое значение в тензоре\n",
        "unique_values, counts = torch.unique(arr, return_counts=True)\n",
        "most_common_value = unique_values[torch.argmax(counts)]\n",
        "print(\"Самое частое значение:\", most_common_value)\n",
        "\n",
        "# Находим индексы в тензоре, соответствующие самому частому значению\n",
        "indices = (arr == most_common_value).nonzero().squeeze()\n",
        "print(\"Индексы самого частого значения:\", indices)\n",
        "\n",
        "# Проверяем, как работает алгоритм при двух значениях, имеющих наибольшую встречаемость\n",
        "if torch.sum(counts == torch.max(counts)) > 1:\n",
        "    print(\"В тензоре несколько значений с одинаковой максимальной встречаемостью.\")\n",
        "    most_common_values = unique_values[counts == torch.max(counts)]\n",
        "    print(\"Наиболее частые значения:\", most_common_values)\n",
        "    indices = torch.cat([torch.where(arr == value)[0] for value in most_common_values])\n",
        "    print(\"Индексы наиболее частых значений:\", indices)"
      ],
      "metadata": {
        "colab": {
          "base_uri": "https://localhost:8080/"
        },
        "id": "txw0S45WaoFw",
        "outputId": "2b583095-de8c-44d5-b459-ebf9b8b11b7b"
      },
      "execution_count": null,
      "outputs": [
        {
          "output_type": "stream",
          "name": "stdout",
          "text": [
            "Исходный тензор: tensor([28, 93, 57, 26, 47, 77, 98,  8, 68, 23, 64, 19, 32, 27, 39, 28, 46, 70,\n",
            "        43, 97])\n",
            "Самое частое значение: tensor(28)\n",
            "Индексы самого частого значения: tensor([ 0, 15])\n"
          ]
        }
      ]
    },
    {
      "cell_type": "markdown",
      "metadata": {
        "id": "UenAEfEG1RDN"
      },
      "source": [
        "## 1.4 Математические задачи"
      ]
    },
    {
      "cell_type": "markdown",
      "metadata": {
        "id": "6weDrqJR1RDN"
      },
      "source": [
        "1.4.1 Приблизительно (с погрешностью порядка 1%) рассчитать на какой части интервала от 0 до 10 значение функции x * sin(x) больше 0.5."
      ]
    },
    {
      "cell_type": "code",
      "source": [
        "import math\n",
        "\n",
        "def f(x):\n",
        "    return x * math.sin(x)\n",
        "\n",
        "start = 0\n",
        "end = 10\n",
        "step = 0.01\n",
        "\n",
        "total_length = end - start\n",
        "length_above_0_5 = 0\n",
        "\n",
        "for x in [start + i * step for i in range(int((end - start) / step) + 1)]:\n",
        "    if f(x) > 0.5:\n",
        "        length_above_0_5 += step\n",
        "\n",
        "print(f\"Функция x * sin(x) больше 0.5 на примерно {(length_above_0_5 / total_length) * 100:.2f}% интервала от 0 до 10.\")"
      ],
      "metadata": {
        "colab": {
          "base_uri": "https://localhost:8080/"
        },
        "id": "FoIS3wO8c0iM",
        "outputId": "fa6d8c30-155f-45fb-aae7-3e3256f14255"
      },
      "execution_count": null,
      "outputs": [
        {
          "output_type": "stream",
          "name": "stdout",
          "text": [
            "Функция x * sin(x) больше 0.5 на примерно 52.40% интервала от 0 до 10.\n"
          ]
        }
      ]
    },
    {
      "cell_type": "markdown",
      "metadata": {
        "id": "B9xAv8TR1RDN"
      },
      "source": [
        "1.4.2 Найти все простые числа в пределах ста. (Для решения предлагается использовать Решето Эратосфена) Использовать не более 1 цикла (желательно)."
      ]
    },
    {
      "cell_type": "code",
      "source": [
        "import math\n",
        "\n",
        "def find_primes_up_to(n):\n",
        "    is_prime = [True] * (n + 1)\n",
        "    is_prime[0] = is_prime[1] = False\n",
        "\n",
        "    for i in range(2, int(math.sqrt(n)) + 1):\n",
        "        if is_prime[i]:\n",
        "            for j in range(i * i, n + 1, i):\n",
        "                is_prime[j] = False\n",
        "\n",
        "    return [i for i in range(n + 1) if is_prime[i]]\n",
        "\n",
        "primes = find_primes_up_to(100)\n",
        "print(primes)"
      ],
      "metadata": {
        "colab": {
          "base_uri": "https://localhost:8080/"
        },
        "id": "3RoiTYVIc6Le",
        "outputId": "e9337e4a-afd4-4cb2-f5e6-1fbd6ec85a04"
      },
      "execution_count": null,
      "outputs": [
        {
          "output_type": "stream",
          "name": "stdout",
          "text": [
            "[2, 3, 5, 7, 11, 13, 17, 19, 23, 29, 31, 37, 41, 43, 47, 53, 59, 61, 67, 71, 73, 79, 83, 89, 97]\n"
          ]
        }
      ]
    },
    {
      "cell_type": "markdown",
      "metadata": {
        "id": "AHupFoTR1RDN"
      },
      "source": [
        "1.4.3 Найти евклидово расстояние между двумя одномерными тензорами одинаковой размерности, не используя готовые решения из библиотек."
      ]
    },
    {
      "cell_type": "code",
      "source": [
        "import math\n",
        "\n",
        "def euclidean_distance(tensor1, tensor2):\n",
        "    if len(tensor1) != len(tensor2):\n",
        "        raise ValueError(\"Tensors must have the same dimensionality.\")\n",
        "\n",
        "    distance = 0\n",
        "    for i in range(len(tensor1)):\n",
        "        distance += (tensor1[i] - tensor2[i])**2\n",
        "\n",
        "    return math.sqrt(distance)\n",
        "\n",
        "# Пример использования\n",
        "tensor1 = [1, 2, 3]\n",
        "tensor2 = [4, 5, 6]\n",
        "distance = euclidean_distance(tensor1, tensor2)\n",
        "print(f\"Евклидово расстояние между {tensor1} и {tensor2} составляет {distance:.2f}\")"
      ],
      "metadata": {
        "colab": {
          "base_uri": "https://localhost:8080/"
        },
        "id": "22I_kuCCdAUo",
        "outputId": "2bf6b5f3-8c50-474a-d5c2-7b907a4c7d58"
      },
      "execution_count": null,
      "outputs": [
        {
          "output_type": "stream",
          "name": "stdout",
          "text": [
            "Евклидово расстояние между [1, 2, 3] и [4, 5, 6] составляет 5.20\n"
          ]
        }
      ]
    },
    {
      "cell_type": "markdown",
      "metadata": {
        "id": "j-ZvjWDKDVMQ"
      },
      "source": [
        "1.4.4 Создать двумерный тензор 20 на 3, содержащий случайные целые числа от 0 до 100.\n",
        "Интерпретируя тензор как 20 векторов из 3х компонент, отсортировать его по длине векторов."
      ]
    },
    {
      "cell_type": "code",
      "source": [
        "import numpy as np\n",
        "\n",
        "def create_and_sort_tensor(rows, cols):\n",
        "    # Создание случайного двумерного тензора\n",
        "    tensor = np.random.randint(0, 101, size=(rows, cols))\n",
        "\n",
        "    # Сортировка тензора по длине векторов\n",
        "    sorted_tensor = sorted(tensor, key=lambda x: np.linalg.norm(x))\n",
        "\n",
        "    return sorted_tensor\n",
        "\n",
        "# Пример использования\n",
        "sorted_tensor = create_and_sort_tensor(20, 3)\n",
        "print(sorted_tensor)"
      ],
      "metadata": {
        "colab": {
          "base_uri": "https://localhost:8080/"
        },
        "id": "46GpGgMDdF5C",
        "outputId": "66c6b583-e64d-440d-ca49-980430e69538"
      },
      "execution_count": null,
      "outputs": [
        {
          "output_type": "stream",
          "name": "stdout",
          "text": [
            "[array([10, 16, 20]), array([ 1, 22, 37]), array([12, 48, 21]), array([55, 32, 11]), array([31,  4, 58]), array([43, 55, 26]), array([13, 75, 14]), array([68, 43, 35]), array([27,  5, 91]), array([52,  2, 87]), array([90, 51, 11]), array([48, 72, 62]), array([81,  0, 73]), array([59, 83, 61]), array([ 7, 69, 99]), array([76,  6, 96]), array([42, 98, 61]), array([71, 62, 82]), array([61, 50, 97]), array([65, 80, 93])]\n"
          ]
        }
      ]
    },
    {
      "cell_type": "markdown",
      "metadata": {
        "id": "IkBRFTKa1RDO"
      },
      "source": [
        "1.4.5 Найти \"локальные максимумы\" в одномерном тензоре (т.е. значения, большие предыдущего и последующего) `torch.tensor([1, 3, 7, 1, 2, 6, 0, 1])` и вывести их индексы."
      ]
    },
    {
      "cell_type": "code",
      "source": [
        "import torch\n",
        "\n",
        "def find_local_maxima(tensor):\n",
        "    local_maxima_indices = []\n",
        "\n",
        "    for i in range(1, len(tensor)-1):\n",
        "        if tensor[i] > tensor[i-1] and tensor[i] > tensor[i+1]:\n",
        "            local_maxima_indices.append(i)\n",
        "\n",
        "    return local_maxima_indices\n",
        "\n",
        "# Пример использования\n",
        "tensor = torch.tensor([1, 3, 7, 1, 2, 6, 0, 1])\n",
        "local_maxima_indices = find_local_maxima(tensor)\n",
        "print(f\"Индексы локальных максимумов: {local_maxima_indices}\")"
      ],
      "metadata": {
        "colab": {
          "base_uri": "https://localhost:8080/"
        },
        "id": "Gr-10d7-dRII",
        "outputId": "89fd2d60-ad3e-4219-ceb0-05b331aee27b"
      },
      "execution_count": null,
      "outputs": [
        {
          "output_type": "stream",
          "name": "stdout",
          "text": [
            "Индексы локальных максимумов: [2, 5]\n"
          ]
        }
      ]
    },
    {
      "cell_type": "markdown",
      "metadata": {
        "id": "VXD58rlc1RDP"
      },
      "source": [
        "1.4.6 Задан произвольный массив numpy (например массив из 100 случайных числе от 0 до 1). Необходимо найти в нем число наиболее близкое к заданному."
      ]
    },
    {
      "cell_type": "code",
      "source": [
        "import numpy as np\n",
        "\n",
        "def find_closest_number(arr, target):\n",
        "    # Находим разницу между каждым элементом массива и целевым значением\n",
        "    diffs = np.abs(arr - target)\n",
        "\n",
        "    # Находим индекс элемента с наименьшей разницей\n",
        "    closest_index = np.argmin(diffs)\n",
        "\n",
        "    # Возвращаем значение элемента с наименьшей разницей\n",
        "    return arr[closest_index]\n",
        "\n",
        "# Пример использования\n",
        "np.random.seed(42)\n",
        "arr = np.random.rand(100)\n",
        "target = 0.5\n",
        "\n",
        "closest_number = find_closest_number(arr, target)\n",
        "print(f\"Массив: {arr}\")\n",
        "print(f\"Целевое значение: {target}\")\n",
        "print(f\"Число, наиболее близкое к целевому: {closest_number}\")"
      ],
      "metadata": {
        "colab": {
          "base_uri": "https://localhost:8080/"
        },
        "id": "MHv18xtqdVrT",
        "outputId": "51860f9f-4a2a-4982-f0a1-2bfd4b77e54b"
      },
      "execution_count": null,
      "outputs": [
        {
          "output_type": "stream",
          "name": "stdout",
          "text": [
            "Массив: [0.37454012 0.95071431 0.73199394 0.59865848 0.15601864 0.15599452\n",
            " 0.05808361 0.86617615 0.60111501 0.70807258 0.02058449 0.96990985\n",
            " 0.83244264 0.21233911 0.18182497 0.18340451 0.30424224 0.52475643\n",
            " 0.43194502 0.29122914 0.61185289 0.13949386 0.29214465 0.36636184\n",
            " 0.45606998 0.78517596 0.19967378 0.51423444 0.59241457 0.04645041\n",
            " 0.60754485 0.17052412 0.06505159 0.94888554 0.96563203 0.80839735\n",
            " 0.30461377 0.09767211 0.68423303 0.44015249 0.12203823 0.49517691\n",
            " 0.03438852 0.9093204  0.25877998 0.66252228 0.31171108 0.52006802\n",
            " 0.54671028 0.18485446 0.96958463 0.77513282 0.93949894 0.89482735\n",
            " 0.59789998 0.92187424 0.0884925  0.19598286 0.04522729 0.32533033\n",
            " 0.38867729 0.27134903 0.82873751 0.35675333 0.28093451 0.54269608\n",
            " 0.14092422 0.80219698 0.07455064 0.98688694 0.77224477 0.19871568\n",
            " 0.00552212 0.81546143 0.70685734 0.72900717 0.77127035 0.07404465\n",
            " 0.35846573 0.11586906 0.86310343 0.62329813 0.33089802 0.06355835\n",
            " 0.31098232 0.32518332 0.72960618 0.63755747 0.88721274 0.47221493\n",
            " 0.11959425 0.71324479 0.76078505 0.5612772  0.77096718 0.4937956\n",
            " 0.52273283 0.42754102 0.02541913 0.10789143]\n",
            "Целевое значение: 0.5\n",
            "Число, наиболее близкое к целевому: 0.4951769101112702\n"
          ]
        }
      ]
    },
    {
      "cell_type": "markdown",
      "metadata": {
        "id": "81F_B2ij1RDP"
      },
      "source": [
        "1.4.7 Решить матричное уравнение `A*X*B=-C` - найти матрицу X. Где `A = [[-1, 2, 4], [-3, 1, 2], [-3, 0, 1]]`, `B=[[3, -1], [2, 1]]`, `C=[[7, 21], [11, 8], [8, 4]]`."
      ]
    },
    {
      "cell_type": "code",
      "source": [
        "import numpy as np\n",
        "\n",
        "A = np.array([[-1, 2, 4], [-3, 1, 2], [-3, 0, 1]])\n",
        "B = np.array([[3, -1], [2, 1]])\n",
        "C = np.array([[7, 21], [11, 8], [8, 4]])\n",
        "\n",
        "X = -np.matmul(np.matmul(np.linalg.inv(A), C), np.linalg.inv(B))\n",
        "print(\"Матрица X:\")\n",
        "print(X)"
      ],
      "metadata": {
        "colab": {
          "base_uri": "https://localhost:8080/"
        },
        "id": "eRX19UtJdet6",
        "outputId": "afc87f3c-44d1-4eff-958a-2aa31f8e767d"
      },
      "execution_count": null,
      "outputs": [
        {
          "output_type": "stream",
          "name": "stdout",
          "text": [
            "Матрица X:\n",
            "[[ 1.00000000e+00  5.32907052e-16]\n",
            " [-2.00000000e+00  1.00000000e+00]\n",
            " [ 3.00000000e+00 -4.00000000e+00]]\n"
          ]
        }
      ]
    },
    {
      "cell_type": "markdown",
      "metadata": {
        "id": "1P7O19bj1RDP"
      },
      "source": [
        "1.4.8 Проверить, является ли система векторов a1 = (3; −3; 0; 7),\n",
        "a2 = (2; 2; 4; 7), a3 = (1; 2; 3; 4), a4 = (5; −4; 1; 3) линейно зависимой?"
      ]
    },
    {
      "cell_type": "code",
      "source": [
        "import numpy as np\n",
        "\n",
        "a1 = np.array([3, -3, 0, 7])\n",
        "a2 = np.array([2, 2, 4, 7])\n",
        "a3 = np.array([1, 2, 3, 4])\n",
        "a4 = np.array([5, -4, 1, 3])\n",
        "\n",
        "A = np.column_stack((a1, a2, a3, a4))\n",
        "rank_A = np.linalg.matrix_rank(A)\n",
        "if rank_A < len(A[0]):\n",
        "    print(\"Система векторов является линейно зависимой.\")\n",
        "else:\n",
        "    print(\"Система векторов является линейно независимой.\")"
      ],
      "metadata": {
        "colab": {
          "base_uri": "https://localhost:8080/"
        },
        "id": "PbOcYS86dxH3",
        "outputId": "6d0db555-ffb8-44c0-cfb7-61774ab867bb"
      },
      "execution_count": null,
      "outputs": [
        {
          "output_type": "stream",
          "name": "stdout",
          "text": [
            "Система векторов является линейно зависимой.\n"
          ]
        }
      ]
    },
    {
      "cell_type": "markdown",
      "metadata": {
        "id": "Jg_bzMVS1RDQ"
      },
      "source": [
        "1.4.9 Сгенирировать тензор из 200 случайных целых чисел, нормально распрделенных cо стандартным отклонением $\\sigma = 10$ и матожиданием $\\mu = 0$. Построить тензор гистограммы с 20 бинами."
      ]
    },
    {
      "cell_type": "code",
      "execution_count": null,
      "metadata": {
        "colab": {
          "base_uri": "https://localhost:8080/",
          "height": 564
        },
        "id": "sCSwf5VANn9F",
        "outputId": "4f3da1ac-bf49-4420-c3b5-f4bcd3a90fe0"
      },
      "outputs": [
        {
          "output_type": "display_data",
          "data": {
            "text/plain": [
              "<Figure size 1000x600 with 1 Axes>"
            ],
            "image/png": "[encoded data removed]"
          },
          "metadata": {}
        }
      ],
      "source": [
        "import numpy as np\n",
        "import matplotlib.pyplot as plt\n",
        "\n",
        "# Задание параметров\n",
        "num_elements = 200\n",
        "mean = 0\n",
        "std_dev = 10\n",
        "\n",
        "# Генерация случайного тензора\n",
        "tensor = np.random.normal(mean, std_dev, size=(num_elements,))\n",
        "\n",
        "# Построение гистограммы\n",
        "num_bins = 20\n",
        "plt.figure(figsize=(10, 6))\n",
        "plt.hist(tensor, bins=num_bins, edgecolor='black')\n",
        "plt.title(f\"Histogram of {num_elements} Normally Distributed Random Numbers\")\n",
        "plt.xlabel(\"Value\")\n",
        "plt.ylabel(\"Frequency\")\n",
        "plt.show()"
      ]
    }
  ],
  "metadata": {
    "colab": {
      "provenance": [],
      "toc_visible": true,
      "include_colab_link": true
    },
    "kernelspec": {
      "display_name": "Python 3",
      "language": "python",
      "name": "python3"
    },
    "language_info": {
      "codemirror_mode": {
        "name": "ipython",
        "version": 3
      },
      "file_extension": ".py",
      "mimetype": "text/x-python",
      "name": "python",
      "nbconvert_exporter": "python",
      "pygments_lexer": "ipython3",
      "version": "3.9.18"
    }
  },
  "nbformat": 4,
  "nbformat_minor": 0
}
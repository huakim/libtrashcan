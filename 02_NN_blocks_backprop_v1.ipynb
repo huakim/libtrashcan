{
  "cells": [
    {
      "cell_type": "markdown",
      "metadata": {
        "id": "view-in-github",
        "colab_type": "text"
      },
      "source": [
        "<a href=\"https://colab.research.google.com/github/huakim/libtrashcan/blob/master/02_NN_blocks_backprop_v1.ipynb\" target=\"_parent\"><img src=\"https://colab.research.google.com/assets/colab-badge.svg\" alt=\"Open In Colab\"/></a>"
      ]
    },
    {
      "cell_type": "code",
      "execution_count": null,
      "metadata": {
        "id": "PqC4R7SGseKa"
      },
      "outputs": [],
      "source": [
        "from __future__ import annotations\n",
        "\n",
        "import numpy as np\n",
        "import torch\n",
        "from matplotlib import pyplot as plt"
      ]
    },
    {
      "cell_type": "markdown",
      "metadata": {
        "id": "0J2RM8f5wP33"
      },
      "source": [
        "## 2.1 Создание нейронов и полносвязных слоев"
      ]
    },
    {
      "cell_type": "markdown",
      "metadata": {
        "id": "_2ArJn_nsdZC"
      },
      "source": [
        "2.1.1. Используя операции над матрицами и векторами из библиотеки `torch`, реализовать нейрон с заданными весами `weights` и `bias`. Прогнать вектор `inputs` через нейрон и вывести результат."
      ]
    },
    {
      "cell_type": "code",
      "execution_count": null,
      "metadata": {
        "colab": {
          "base_uri": "https://localhost:8080/"
        },
        "id": "oYsikDhRFtx7",
        "outputId": "9e34aeb8-e1cd-437c-b6cb-4ec0170a97e8"
      },
      "outputs": [
        {
          "output_type": "execute_result",
          "data": {
            "text/plain": [
              "tensor(4.8400)"
            ]
          },
          "metadata": {},
          "execution_count": 3
        }
      ],
      "source": [
        "class Neuron:\n",
        "    def __init__(self, weights: torch.Tensor, bias: float):\n",
        "        self.weights = weights\n",
        "        self.bias = bias\n",
        "\n",
        "    def forward(self, inputs: torch.Tensor) -> torch.Tensor:\n",
        "        # return torch.dot(inputs, self.weights) + self.bias\n",
        "        # или\n",
        "        # (m,) @ (m,) = (1, m) @ (m, 1)\n",
        "        return inputs @ self.weights + self.bias\n",
        "\n",
        "\n",
        "inputs = torch.tensor([1.0, 2.0, 3.0, 4.0])\n",
        "weights = torch.tensor([-0.2, 0.3, -0.5, 0.7])\n",
        "bias = 3.14\n",
        "\n",
        "layer = Neuron(weights=weights, bias=bias)\n",
        "layer.forward(inputs)"
      ]
    },
    {
      "cell_type": "markdown",
      "metadata": {
        "id": "1qJvnwiyty37"
      },
      "source": [
        "2.1.2 Используя операции над матрицами и векторами из библиотеки `torch`, реализовать полносвязный слой с заданными весами `weights` и `biases`. Прогнать вектор `inputs` через слой и вывести результат."
      ]
    },
    {
      "cell_type": "code",
      "execution_count": null,
      "metadata": {
        "id": "AdCmyGT2Ftx-",
        "outputId": "9d136232-9bb4-490e-e98a-3e3ffd07a19e",
        "colab": {
          "base_uri": "https://localhost:8080/"
        }
      },
      "outputs": [
        {
          "output_type": "execute_result",
          "data": {
            "text/plain": [
              "tensor([ 4.8400,  0.1700, 10.3900])"
            ]
          },
          "metadata": {},
          "execution_count": 4
        }
      ],
      "source": [
        "class Linear:\n",
        "    def __init__(self, weights: torch.Tensor, biases: torch.Tensor):\n",
        "        self.weights = weights\n",
        "        self.biases = biases\n",
        "\n",
        "    def forward(self, inputs: torch.Tensor) -> torch.Tensor:\n",
        "        # @ эквивалентна torch.matmul\n",
        "        # (m,) @ (m, l) = (1, m) @ (m, l)\n",
        "        return inputs @ self.weights + self.biases\n",
        "\n",
        "\n",
        "inputs = torch.tensor([1.0, 2.0, 3.0, 4.0])\n",
        "weights = torch.tensor(\n",
        "    [\n",
        "        [-0.2, 0.3, -0.5, 0.7],\n",
        "        [0.5, -0.91, 0.26, -0.5],\n",
        "        [-0.26, -0.27, 0.17, 0.87],\n",
        "    ]\n",
        ").T\n",
        "\n",
        "biases = torch.tensor([3.14, 2.71, 7.2])\n",
        "\n",
        "layer = Linear(weights=weights, biases=biases)\n",
        "layer.forward(inputs)"
      ]
    },
    {
      "cell_type": "markdown",
      "metadata": {
        "id": "mQtsJzcxuyGd"
      },
      "source": [
        "2.1.3 Реализовать полносвязный слой из __2.1.2__ таким образом, чтобы он мог принимать на вход матрицу (батч) с данными. Продемонстрировать работу.\n",
        "Результатом прогона сквозь слой должна быть матрица размера `batch_size` x `n_neurons`.\n"
      ]
    },
    {
      "cell_type": "code",
      "execution_count": null,
      "metadata": {
        "id": "Z8IizmtsuhO1",
        "outputId": "f6e60a27-e057-4cc9-b655-aded19592421",
        "colab": {
          "base_uri": "https://localhost:8080/"
        }
      },
      "outputs": [
        {
          "output_type": "execute_result",
          "data": {
            "text/plain": [
              "tensor([[ 3.7900,  0.9200,  9.0850],\n",
              "        [ 6.1400, -2.1000,  6.9000],\n",
              "        [ 2.0400,  0.7610,  6.7260]])"
            ]
          },
          "metadata": {},
          "execution_count": 5
        }
      ],
      "source": [
        "class Linear:\n",
        "    def __init__(self, weights: torch.Tensor, biases: torch.Tensor):\n",
        "        self.weights = weights\n",
        "        self.biases = biases\n",
        "\n",
        "    def forward(self, inputs: torch.Tensor) -> torch.Tensor:\n",
        "        # @ эквивалентна torch.matmul\n",
        "        # (n, m,) @ (m, l)\n",
        "        return inputs @ self.weights + self.biases\n",
        "\n",
        "inputs = torch.tensor(\n",
        "    [\n",
        "        [1, 2, 3, 2.5],\n",
        "        [2, 5, -1, 2],\n",
        "        [-1.5, 2.7, 3.3, -0.8],\n",
        "    ]\n",
        ")\n",
        "\n",
        "layer = Linear(weights=weights, biases=biases)\n",
        "layer.forward(inputs)"
      ]
    },
    {
      "cell_type": "markdown",
      "metadata": {
        "id": "OQ2OxH4_vBLu"
      },
      "source": [
        "2.1.4 Используя операции над матрицами и векторами из библиотеки `torch`, реализовать полносвязный слой из `n_neurons` нейронов с `n_features` весами у каждого нейрона (инициализируются из стандартного нормального распределения). Прогнать вектор `inputs` через слой и вывести результат. Результатом прогона сквозь слой должна быть матрица размера `batch_size` x `n_neurons`."
      ]
    },
    {
      "cell_type": "code",
      "execution_count": null,
      "metadata": {
        "id": "hI9l-0b8FtyA",
        "outputId": "a53852e6-5035-4200-be87-c8a6dc115cc1",
        "colab": {
          "base_uri": "https://localhost:8080/"
        }
      },
      "outputs": [
        {
          "output_type": "execute_result",
          "data": {
            "text/plain": [
              "tensor([[-1.7550, -4.2973,  8.8021,  0.0649,  0.9077, -2.7999,  2.1841,  0.2067,\n",
              "          0.3943, -3.4053],\n",
              "        [-1.6707, -4.5049,  6.2831, -2.9066, -9.3119, -7.6800,  7.4200, 11.4825,\n",
              "          6.4926,  1.1621],\n",
              "        [ 2.9678, -5.7844, -0.1007, -0.9154,  5.0105, -3.8565, -4.5409, -4.7822,\n",
              "         -0.6254,  1.0834]])"
            ]
          },
          "metadata": {},
          "execution_count": 6
        }
      ],
      "source": [
        "class Linear:\n",
        "    def __init__(self, n_features: int, n_outputs: int):\n",
        "        self.weights = torch.randn((n_features, n_outputs))\n",
        "        self.biases = torch.randn((1, n_outputs))\n",
        "\n",
        "    def forward(self, inputs: torch.Tensor) -> torch.Tensor:\n",
        "        return inputs @ self.weights + self.biases\n",
        "\n",
        "\n",
        "layer = Linear(n_features=inputs.shape[1], n_outputs=10)\n",
        "layer.forward(inputs)"
      ]
    },
    {
      "cell_type": "markdown",
      "metadata": {
        "id": "IPG4UqL4wajI"
      },
      "source": [
        "2.1.5 Используя решение из __2.1.4__, создать 2 полносвязных слоя и пропустить матрицу `inputs` последовательно через эти два слоя. Количество нейронов в первом слое выбрать произвольно, количество нейронов во втором слое выбрать так, чтобы результатом прогона являлась матрица (3x7)."
      ]
    },
    {
      "cell_type": "code",
      "execution_count": null,
      "metadata": {
        "id": "RjjQIQlTxJE6"
      },
      "outputs": [],
      "source": [
        "inputs = torch.tensor([[1, 2, 3, 2.5], [2, 5, -1, 2], [-1.5, 2.7, 3.3, -0.8]])"
      ]
    },
    {
      "cell_type": "markdown",
      "metadata": {
        "id": "cRVH_2K7xTBC"
      },
      "source": [
        "## 2.2 Создание функций активации"
      ]
    },
    {
      "cell_type": "markdown",
      "metadata": {
        "id": "B9kngE6Fxs9D"
      },
      "source": [
        "2.2.1 Используя операции над матрицами и векторами из библиотеки `torch`, реализовать функцию активации ReLU:\n",
        "\n",
        "![](https://wikimedia.org/api/rest_v1/media/math/render/svg/f4353f4e3e484130504049599d2e7b040793e1eb)\n",
        "\n",
        "Создать матрицу размера (4,3), заполненную числами из стандартного нормального распределения, и проверить работоспособность функции активации."
      ]
    },
    {
      "cell_type": "code",
      "execution_count": null,
      "metadata": {
        "id": "urSaVQjTFtyD",
        "colab": {
          "base_uri": "https://localhost:8080/"
        },
        "outputId": "efe6a211-05ce-49fb-e4ea-90a0c4ce6d76"
      },
      "outputs": [
        {
          "output_type": "stream",
          "name": "stdout",
          "text": [
            "tensor([[ 1.5116, -0.7909,  1.5989],\n",
            "        [-1.7933, -0.7245, -1.3493],\n",
            "        [ 0.6139, -1.2236,  0.1744],\n",
            "        [ 0.7640,  1.2723, -0.1997]])\n",
            "tensor([[1.5116, 0.0000, 1.5989],\n",
            "        [0.0000, 0.0000, 0.0000],\n",
            "        [0.6139, 0.0000, 0.1744],\n",
            "        [0.7640, 1.2723, 0.0000]])\n"
          ]
        }
      ],
      "source": [
        "import torch\n",
        "\n",
        "class ReLU:\n",
        "   def forward(self, inputs):\n",
        "       return inputs.clamp(min=0)\n",
        "   def __call__(self, *a, **b):\n",
        "       return self.forward(*a, **b)\n",
        "\n",
        "def test(dim, func):\n",
        "  inputs = torch.randn(dim)\n",
        "  return inputs, func()(inputs)\n",
        "\n",
        "print(*test((4,3), ReLU), sep=\"\\n\")"
      ]
    },
    {
      "cell_type": "markdown",
      "metadata": {
        "id": "puExCWiKyTtb"
      },
      "source": [
        "2.2.2 Используя операции над матрицами и векторами из библиотеки `torch`, реализовать функцию активации softmax:\n",
        "\n",
        "![](https://wikimedia.org/api/rest_v1/media/math/render/svg/6d7500d980c313da83e4117da701bf7c8f1982f5)\n",
        "\n",
        "Создать матрицу размера (4,3), заполненную числами из стандартного нормального распределения, и проверить работоспособность функции активации. Строки матрицы трактовать как выходы линейного слоя некоторого классификатора для 4 различных примеров."
      ]
    },
    {
      "cell_type": "code",
      "execution_count": null,
      "metadata": {
        "id": "ADiCQz1rFtyE",
        "colab": {
          "base_uri": "https://localhost:8080/"
        },
        "outputId": "8d31889e-71d3-4317-8923-5372d82a3691"
      },
      "outputs": [
        {
          "output_type": "stream",
          "name": "stdout",
          "text": [
            "tensor([[-1.1557,  0.0533,  0.7903],\n",
            "        [ 0.1562, -1.4309, -0.3818],\n",
            "        [-0.2772, -0.0840,  0.4390],\n",
            "        [-1.3395, -0.1159, -1.3424]])\n",
            "tensor([[0.0881, 0.2952, 0.6167],\n",
            "        [0.5591, 0.1144, 0.3265],\n",
            "        [0.2347, 0.2848, 0.4805],\n",
            "        [0.1853, 0.6299, 0.1848]])\n"
          ]
        }
      ],
      "source": [
        "class Softmax(ReLU):\n",
        "   def forward(self, inputs):\n",
        "       return torch.nn.functional.softmax(inputs, dim=1)\n",
        "\n",
        "print(*test((4,3), Softmax), sep=\"\\n\")"
      ]
    },
    {
      "cell_type": "markdown",
      "metadata": {
        "id": "vxVK2TYez_Ye"
      },
      "source": [
        "2.2.3 Используя операции над матрицами и векторами из библиотеки `torch`, реализовать функцию активации ELU:\n",
        "\n",
        "![](https://wikimedia.org/api/rest_v1/media/math/render/svg/eb23becd37c3602c4838e53f532163279192e4fd)\n",
        "\n",
        "Создать матрицу размера (4,3), заполненную числами из стандартного нормального распределения, и проверить работоспособность функции активации."
      ]
    },
    {
      "cell_type": "code",
      "execution_count": null,
      "metadata": {
        "id": "pewBgt3hFtyE"
      },
      "outputs": [],
      "source": [
        "class ELU(ReLU):\n",
        "    def __init__(self, alpha):\n",
        "        pass\n",
        "\n",
        "    def forward(self, inputs):\n",
        "\n",
        "\n",
        "print(*test((4,3), ELU), sep=\"\\n\")"
      ]
    },
    {
      "cell_type": "markdown",
      "metadata": {
        "id": "0peh8r-20Pof"
      },
      "source": [
        "## 2.3 Создание функции потерь"
      ]
    },
    {
      "cell_type": "markdown",
      "metadata": {
        "id": "EY-k3eEs0f7f"
      },
      "source": [
        "2.3.1 Используя операции над матрицами и векторами из библиотеки `torch`, реализовать функцию потерь MSE:\n",
        "\n",
        "![](https://wikimedia.org/api/rest_v1/media/math/render/svg/e258221518869aa1c6561bb75b99476c4734108e)\n",
        "\n",
        "Создать полносвязный слой с 1 нейроном, прогнать через него батч `inputs` и посчитать значение MSE, трактуя вектор `y` как вектор правильных ответов."
      ]
    },
    {
      "cell_type": "code",
      "execution_count": null,
      "metadata": {
        "id": "j7PRu6djFtyF"
      },
      "outputs": [],
      "source": [
        "class MSELoss(ReLU):\n",
        "    def forward(self, y_pred, y_true):\n",
        "        return ((y_pred - y_true) ** 2).mean()"
      ]
    },
    {
      "cell_type": "code",
      "execution_count": null,
      "metadata": {
        "id": "NAyuDU9F1Vuz",
        "colab": {
          "base_uri": "https://localhost:8080/"
        },
        "outputId": "784dc2b6-9659-4833-d49e-279294987325"
      },
      "outputs": [
        {
          "output_type": "stream",
          "name": "stdout",
          "text": [
            "tensor([[ 0.3933, -0.6469,  1.0766],\n",
            "        [-1.6862, -2.1173,  0.4533],\n",
            "        [-0.1625, -0.1954,  0.8849],\n",
            "        [ 0.6705,  0.8805,  0.7695]])\n",
            "tensor(2.4716)\n"
          ]
        }
      ],
      "source": [
        "inputs = torch.tensor([[1, 2, 3, 2.5], [2, 5, -1, 2], [-1.5, 2.7, 3.3, -0.8]])\n",
        "\n",
        "def test2(dim, func):\n",
        "  inputs = torch.randn(dim)\n",
        "  trues = torch.randn(dim)\n",
        "  return inputs, func()(inputs, trues)\n",
        "\n",
        "print(*test2((4,3), MSELoss), sep=\"\\n\")\n"
      ]
    },
    {
      "cell_type": "markdown",
      "metadata": {
        "id": "uaR7rILd1eWR"
      },
      "source": [
        "2.3.2 Используя операции над матрицами и векторами из библиотеки `torch`, реализовать функцию потерь Categorical Cross-Entropy:\n",
        "\n",
        "<img src=\"https://i.ibb.co/93gy1dN/Screenshot-9.png\" width=\"200\">\n",
        "\n",
        "Создать полносвязный слой с 3 нейронами и прогнать через него батч `inputs`. Полученный результат пропустить через функцию активации softmax. Посчитать значение CCE, трактуя вектор `y` как вектор правильных ответов."
      ]
    },
    {
      "cell_type": "code",
      "execution_count": null,
      "metadata": {
        "id": "d9MzgssIFtyG"
      },
      "outputs": [],
      "source": [
        "class CategoricalCrossentropyLoss(ReLU):\n",
        "    def forward(self, y_pred, y_true):\n",
        "        return - torch.sum((y_pred) * torch.log(y_true))"
      ]
    },
    {
      "cell_type": "code",
      "execution_count": null,
      "metadata": {
        "id": "s7Qoupfo1ZGJ",
        "colab": {
          "base_uri": "https://localhost:8080/"
        },
        "outputId": "90d0ca58-bde3-4b2b-8615-53d72cee096d"
      },
      "outputs": [
        {
          "output_type": "stream",
          "name": "stdout",
          "text": [
            "tensor([[ 0.1941,  0.0708, -2.2717],\n",
            "        [ 0.0600, -0.5058,  1.3321],\n",
            "        [ 0.9849,  1.2173, -0.1711],\n",
            "        [-0.6613,  0.6079,  0.3119]])\n",
            "tensor(nan)\n"
          ]
        }
      ],
      "source": [
        "print(*test2((4,3), CategoricalCrossentropyLoss), sep=\"\\n\")"
      ]
    },
    {
      "cell_type": "markdown",
      "metadata": {
        "id": "fA6dbanf44_4"
      },
      "source": [
        "2.3.3 Модифицировать 2.3.1, добавив L2-регуляризацию.\n",
        "\n",
        "![](https://wikimedia.org/api/rest_v1/media/math/render/svg/d92ca2429275bfdc0474523babbafe014ca8b580)\n"
      ]
    },
    {
      "cell_type": "code",
      "execution_count": null,
      "metadata": {
        "id": "sq0qSNEmFtyH"
      },
      "outputs": [],
      "source": [
        "class MseLossL2:\n",
        "    def __init__(self, lambda_: float):\n",
        "        self.lambda_ = lambda_\n",
        "\n",
        "    def data_loss(self, y_pred: torch.Tensor, y_true: torch.Tensor):\n",
        "        # <подсчет первого слагаемого из формулы>\n",
        "        pass\n",
        "\n",
        "    def reg_loss(self, layer) -> torch.Tensor:\n",
        "        # используйте атрибуты объекта layer, в которых хранятся веса слоя\n",
        "        pass\n",
        "\n",
        "    def forward(self, y_pred: torch.Tensor, y_true: torch.Tensor, layer):\n",
        "        pass"
      ]
    },
    {
      "cell_type": "markdown",
      "metadata": {
        "id": "w049ZSdR6qQi"
      },
      "source": [
        "## 2.4 Обратное распространение ошибки"
      ]
    },
    {
      "cell_type": "markdown",
      "metadata": {
        "id": "pBtCfSME9W7Q"
      },
      "source": [
        "2.4.1.1-2.4.1.3 Используя один нейрон и SGD (1 пример за шаг), решите задачу регрессии"
      ]
    },
    {
      "cell_type": "code",
      "execution_count": null,
      "metadata": {
        "id": "4xmI-QJ66WAF"
      },
      "outputs": [],
      "source": [
        "from sklearn.datasets import make_regression\n",
        "\n",
        "n_features = 4\n",
        "\n",
        "X, y, coef = make_regression(\n",
        "    n_features=n_features, n_informative=4, coef=True, bias=0.5\n",
        ")\n",
        "X = torch.tensor(X, dtype=torch.float32)\n",
        "y = torch.tensor(y, dtype=torch.float32)"
      ]
    },
    {
      "cell_type": "markdown",
      "metadata": {
        "id": "KpPSPYSpD9Ey"
      },
      "source": [
        "[Граф вычислений для этой задачи](https://i.ibb.co/2dhDxZx/photo-2021-02-15-17-18-04.jpg)"
      ]
    },
    {
      "cell_type": "markdown",
      "metadata": {
        "id": "Fc1sXtGd_J-y"
      },
      "source": [
        "2.4.1.1 Реализуйте класс `SquaredLoss`"
      ]
    },
    {
      "cell_type": "code",
      "execution_count": null,
      "metadata": {
        "id": "FxsY-W01FtyI"
      },
      "outputs": [],
      "source": [
        "class MSELoss:\n",
        "    def forward(self, y_pred: torch.Tensor, y_true: torch.Tensor) -> torch.Tensor:\n",
        "        assert y_pred.ndim == y_true.ndim == 0, f'Ожидалось 0 измерений у y_pred, y_true, получил {y_pred.ndim}, {y_true.ndim}'\n",
        "        self.y_pred = y_pred\n",
        "        self.y_true = y_true\n",
        "        return ((y_pred - y_true) ** 2)\n",
        "\n",
        "    def backward(self) -> torch.Tensor:\n",
        "        return 2 * (self.y_pred - self.y_true)"
      ]
    },
    {
      "cell_type": "markdown",
      "metadata": {
        "id": "GY7ForfM97UQ"
      },
      "source": [
        "2.4.1.2. Модифицируйте класс `Neuron` из __2.1.1__:\n",
        "\n",
        "  1) Сделайте так, чтобы веса нейрона инициализировались из стандартного нормального распределения\n",
        "\n",
        "  2) Реализуйте расчет градиента относительно весов `weights` и `bias`"
      ]
    },
    {
      "cell_type": "code",
      "execution_count": null,
      "metadata": {
        "id": "-Mg8J8xWFtyJ"
      },
      "outputs": [],
      "source": [
        "class Neuron:\n",
        "    inputs: torch.Tensor | None = None\n",
        "    def __init__(self, n_inputs: int):\n",
        "        self.weights = torch.randn(n_inputs)\n",
        "        self.bias = torch.randn(1)\n",
        "\n",
        "    def forward(self, inputs: torch.Tensor) -> torch.Tensor:\n",
        "        self.inputs = inputs\n",
        "        return inputs @ self.weights + self.bias\n",
        "\n",
        "    def backward(self, dvalue: torch.Tensor, learning_rate: float) -> torch.Tensor:\n",
        "        # f - итоговая ошибка (где-то далеко впереди)\n",
        "        # N - выход текущего слоя\n",
        "        # X - входные данные для текущего слоя\n",
        "        # dweights = df/dW = df/dN * dN/dW\n",
        "        # dbias = df/db = df/dN * dN/db\n",
        "        # dvalue = df/dN\n",
        "        # dinputs = df/dX\n",
        "        # X: [n_inputs]\n",
        "        # W: [n_inputs] -> df/dW: [n_inputs]\n",
        "        # b: [1]\n",
        "        # N: [1] -> df/dN: [1]\n",
        "\n",
        "        assert self.inputs is not None, 'Нужно сделать forward вызов'\n",
        "        dweights = dvalue * self.inputs\n",
        "        dbias = dvalue\n",
        "\n",
        "        self.weights -= learning_rate * dweights\n",
        "        self.bias -= learning_rate * dbias\n",
        "\n",
        "        dinputs = dvalue * self.weights\n",
        "        return dinputs\n"
      ]
    },
    {
      "cell_type": "markdown",
      "metadata": {
        "id": "rKcO4zOLACxM"
      },
      "source": [
        "2.4.1.3 Допишите цикл для настройки весов нейрона\n",
        "\n",
        "[SGD](https://ru.wikipedia.org/wiki/%D0%A1%D1%82%D0%BE%D1%85%D0%B0%D1%81%D1%82%D0%B8%D1%87%D0%B5%D1%81%D0%BA%D0%B8%D0%B9_%D0%B3%D1%80%D0%B0%D0%B4%D0%B8%D0%B5%D0%BD%D1%82%D0%BD%D1%8B%D0%B9_%D1%81%D0%BF%D1%83%D1%81%D0%BA)\n",
        "\n",
        "![](https://wikimedia.org/api/rest_v1/media/math/render/svg/dda3670f8a8996a0d3bf80856bb4a166cc8db6d4)"
      ]
    },
    {
      "cell_type": "code",
      "execution_count": null,
      "metadata": {
        "id": "S4XbKJpdFtyJ",
        "outputId": "57bf0814-f72e-4b99-9cf8-3f0e70b23cd6"
      },
      "outputs": [
        {
          "data": {
            "image/png": "[encoded data removed]",
            "text/plain": [
              "<Figure size 640x480 with 1 Axes>"
            ]
          },
          "metadata": {},
          "output_type": "display_data"
        },
        {
          "data": {
            "image/png": "[encoded data removed]",
            "text/plain": [
              "<Figure size 640x480 with 1 Axes>"
            ]
          },
          "metadata": {},
          "output_type": "display_data"
        }
      ],
      "source": [
        "loss = MSELoss()\n",
        "layer = Neuron(n_features)\n",
        "learning_rate = 1e-2\n",
        "num_epochs = 10\n",
        "\n",
        "loss_vals: list[float] = []\n",
        "loss_vals_per_epoch: list[float] = []\n",
        "\n",
        "for _ in range(num_epochs):\n",
        "    loss_vals_in_epoch: list[float] = []\n",
        "    for x_el, y_el in zip(X, y):\n",
        "        pred = layer.forward(x_el)\n",
        "        loss_val = loss.forward(y_pred=pred.squeeze(), y_true=y_el).item()\n",
        "        loss_vals.append(loss_val)\n",
        "        loss_vals_in_epoch.append(loss_val)\n",
        "\n",
        "        dvalue = loss.backward()\n",
        "        layer.backward(dvalue, learning_rate)\n",
        "\n",
        "    loss_vals_per_epoch.append(float(np.mean(loss_vals_in_epoch)))\n",
        "\n",
        "plt.plot(loss_vals)\n",
        "plt.title('Ошибка на батчах')\n",
        "plt.show()\n",
        "plt.plot(loss_vals_per_epoch)\n",
        "plt.title('Ошибка на эпохах')\n",
        "plt.show()\n"
      ]
    },
    {
      "cell_type": "markdown",
      "metadata": {
        "id": "ebibge9VEgF7"
      },
      "source": [
        "2.4.2.1-2.4.2.3 Решите задачу 2.4.1, используя пакетный градиентный спуск"
      ]
    },
    {
      "cell_type": "markdown",
      "metadata": {
        "id": "as-QeWSdOELd"
      },
      "source": [
        "Вычисления для этой задачи:\n",
        "[1](https://i.ibb.co/rmtQT6P/photo-2021-02-15-18-00-43.jpg)\n",
        "[2](https://i.ibb.co/NmCFVnQ/photo-2021-02-15-18-01-17.jpg)"
      ]
    },
    {
      "cell_type": "markdown",
      "metadata": {
        "id": "dr9qq4H_J3zt"
      },
      "source": [
        "2.4.2.1 Модифицируйте класс `MSELoss` из __2.3.1__, реализовав расчет производной относительно предыдущего слоя с учетом того, что теперь работа ведется с батчами, а не с индивидуальными примерами\n"
      ]
    },
    {
      "cell_type": "code",
      "execution_count": null,
      "metadata": {
        "id": "x5ini1ZVFtyR"
      },
      "outputs": [],
      "source": [
        "import torch\n",
        "\n",
        "class MSELoss:\n",
        "  def _init_(self):\n",
        "    self._ypred = None\n",
        "    self._ytrue = None\n",
        "\n",
        "\n",
        "  def forward(self, y_pred, y_true):\n",
        "    self._ypred = y_pred\n",
        "    self._ytrue = y_true.unsqueeze(1) if y_true.ndim == 1 else y_true\n",
        "\n",
        "    return torch.mean ((y_pred - y_true) ** 2)\n",
        "\n",
        "\n",
        "  def backward(self) -> torch.Tensor:\n",
        "    y_pred = self._ypred\n",
        "    y_true = self._ytrue\n",
        "    if y_pred is None and y_true is None:\n",
        "      raise Exception('call forward first')\n",
        "    batch_size = y_pred.shape[0]\n",
        "    dinputs = 2 * (y_pred - y_true) / batch_size\n",
        "    return dinputs"
      ]
    },
    {
      "cell_type": "markdown",
      "metadata": {
        "id": "E3fSHCEtJjX8"
      },
      "source": [
        "2.4.2.2. Модифицируйте класс `Neuron` из __2.4.1.2__:\n",
        "\n",
        "  1) Реализуйте метод `forward` таким образом, чтобы он мог принимать на вход матрицу (батч) с данными.\n",
        "\n",
        "  2) Реализуйте расчет градиента относительно весов `weights` и `bias` с учетом того, что теперь работа ведется с батчами, а не с индивидуальными примерами"
      ]
    },
    {
      "cell_type": "code",
      "execution_count": null,
      "metadata": {
        "id": "WrX7oovBFtyR"
      },
      "outputs": [],
      "source": [
        "from sklearn.datasets import make_regression\n",
        "import matplotlib.pyplot as plt\n",
        "\n",
        "class Neuron:\n",
        "  def __init__(self, n_inputs):\n",
        "    self._w = torch.randn(n_inputs, 1)\n",
        "    self._b = torch.randn(1)\n",
        "    self.inputs = None\n",
        "\n",
        "\n",
        "  def forward(self, inputs):\n",
        "    self.inputs = inputs\n",
        "    return torch.matmul(inputs, self._w) + self._b\n",
        "\n",
        "\n",
        "  def backward(self, dvalues: torch.Tensor, learning_rate: float) -> None:\n",
        "    dweights = torch.matmul (self.inputs.t(), dvalues)\n",
        "    dbias = torch.sum(dvalues, dim=0)\n",
        "    self._w -= learning_rate * dweights; self._b -= learning_rate * dbias"
      ]
    },
    {
      "cell_type": "markdown",
      "metadata": {
        "id": "zO-NZrgKMBFx"
      },
      "source": [
        "2.4.2.3 Напишите цикл для настройки весов нейрона"
      ]
    },
    {
      "cell_type": "code",
      "execution_count": null,
      "metadata": {
        "id": "u6fEci1pFtyS",
        "colab": {
          "base_uri": "https://localhost:8080/",
          "height": 1000
        },
        "outputId": "3a01e22b-ed91-4b40-d168-ef8671cb8753"
      },
      "outputs": [
        {
          "output_type": "display_data",
          "data": {
            "text/plain": [
              "<Figure size 640x480 with 1 Axes>"
            ],
            "image/png": "[encoded data removed]"
          },
          "metadata": {}
        },
        {
          "output_type": "execute_result",
          "data": {
            "text/plain": [
              "<function matplotlib.pyplot.show(close=None, block=None)>"
            ],
            "text/html": [
              "<div style=\"max-width:800px; border: 1px solid var(--colab-border-color);\"><style>\n",
              "      pre.function-repr-contents {\n",
              "        overflow-x: auto;\n",
              "        padding: 8px 12px;\n",
              "        max-height: 500px;\n",
              "      }\n",
              "\n",
              "      pre.function-repr-contents.function-repr-contents-collapsed {\n",
              "        cursor: pointer;\n",
              "        max-height: 100px;\n",
              "      }\n",
              "    </style>\n",
              "    <pre style=\"white-space: initial; background:\n",
              "         var(--colab-secondary-surface-color); padding: 8px 12px;\n",
              "         border-bottom: 1px solid var(--colab-border-color);\"><b>matplotlib.pyplot.show</b><br/>def show(*args, **kwargs)</pre><pre class=\"function-repr-contents function-repr-contents-collapsed\" style=\"\"><a class=\"filepath\" style=\"display:none\" href=\"#\">/usr/local/lib/python3.10/dist-packages/matplotlib/pyplot.py</a>Display all open figures.\n",
              "\n",
              "Parameters\n",
              "----------\n",
              "block : bool, optional\n",
              "    Whether to wait for all figures to be closed before returning.\n",
              "\n",
              "    If `True` block and run the GUI main loop until all figure windows\n",
              "    are closed.\n",
              "\n",
              "    If `False` ensure that all figure windows are displayed and return\n",
              "    immediately.  In this case, you are responsible for ensuring\n",
              "    that the event loop is running to have responsive figures.\n",
              "\n",
              "    Defaults to True in non-interactive mode and to False in interactive\n",
              "    mode (see `.pyplot.isinteractive`).\n",
              "\n",
              "See Also\n",
              "--------\n",
              "ion : Enable interactive mode, which shows / updates the figure after\n",
              "      every plotting command, so that calling ``show()`` is not necessary.\n",
              "ioff : Disable interactive mode.\n",
              "savefig : Save the figure to an image file instead of showing it on screen.\n",
              "\n",
              "Notes\n",
              "-----\n",
              "**Saving figures to file and showing a window at the same time**\n",
              "\n",
              "If you want an image file as well as a user interface window, use\n",
              "`.pyplot.savefig` before `.pyplot.show`. At the end of (a blocking)\n",
              "``show()`` the figure is closed and thus unregistered from pyplot. Calling\n",
              "`.pyplot.savefig` afterwards would save a new and thus empty figure. This\n",
              "limitation of command order does not apply if the show is non-blocking or\n",
              "if you keep a reference to the figure and use `.Figure.savefig`.\n",
              "\n",
              "**Auto-show in jupyter notebooks**\n",
              "\n",
              "The jupyter backends (activated via ``%matplotlib inline``,\n",
              "``%matplotlib notebook``, or ``%matplotlib widget``), call ``show()`` at\n",
              "the end of every cell by default. Thus, you usually don&#x27;t have to call it\n",
              "explicitly there.</pre>\n",
              "      <script>\n",
              "      if (google.colab.kernel.accessAllowed && google.colab.files && google.colab.files.view) {\n",
              "        for (const element of document.querySelectorAll('.filepath')) {\n",
              "          element.style.display = 'block'\n",
              "          element.onclick = (event) => {\n",
              "            event.preventDefault();\n",
              "            event.stopPropagation();\n",
              "            google.colab.files.view(element.textContent, 401);\n",
              "          };\n",
              "        }\n",
              "      }\n",
              "      for (const element of document.querySelectorAll('.function-repr-contents')) {\n",
              "        element.onclick = (event) => {\n",
              "          event.preventDefault();\n",
              "          event.stopPropagation();\n",
              "          element.classList.toggle('function-repr-contents-collapsed');\n",
              "        };\n",
              "      }\n",
              "      </script>\n",
              "      </div>"
            ]
          },
          "metadata": {},
          "execution_count": 33
        },
        {
          "output_type": "display_data",
          "data": {
            "text/plain": [
              "<Figure size 640x480 with 1 Axes>"
            ],
            "image/png": "[encoded data removed]"
          },
          "metadata": {}
        }
      ],
      "source": [
        "import numpy as np\n",
        "\n",
        "learning_rate = 0.01\n",
        "num_epochs = 10\n",
        "\n",
        "n_features = 4\n",
        "neuron = Neuron(n_features)\n",
        "\n",
        "loss = MSELoss()\n",
        "\n",
        "X, y, coef = make_regression(\n",
        "    n_features=n_features, n_informative=4, coef=True, bias=0.5\n",
        ")\n",
        "X = torch.tensor (X, dtype=torch.float32)\n",
        "y = torch.tensor (y, dtype=torch.float32)\n",
        "\n",
        "loss_vals = []\n",
        "loss_vals_per_epoch = []\n",
        "\n",
        "for _ in range (num_epochs):\n",
        "  loss_vals_in_epoch = []\n",
        "\n",
        "  for x_el, y_el in zip(X, y):\n",
        "    y_pred = neuron.forward(x_el.unsqueeze(0))\n",
        "    loss_val = loss.forward(y_pred=y_pred, y_true=y_el.unsqueeze(0))\n",
        "    loss_vals.append(loss_val.item())\n",
        "    loss_vals_in_epoch.append(loss_val.item())\n",
        "\n",
        "    dvalue = loss.backward()\n",
        "    neuron.backward(dvalue, learning_rate)\n",
        "\n",
        "  loss_vals_per_epoch.append(np.mean(loss_vals_in_epoch))\n",
        "\n",
        "plt.plot (loss_vals)\n",
        "plt.title(\"batch errors\")\n",
        "plt.show()\n",
        "\n",
        "plt.plot (loss_vals_per_epoch)\n",
        "plt.title(\"epoch errors\")\n",
        "plt.show"
      ]
    },
    {
      "cell_type": "markdown",
      "metadata": {
        "id": "16VtP159OdMk"
      },
      "source": [
        "2.4.3.1-2.4.3.2  Используя один полносвязный слой и пакетный градиетный спуск, решите задачу регрессии из __2.4.1__\n",
        "\n",
        "*Пакетный градиентный спуск - когда в одном батче находится весь датасет*"
      ]
    },
    {
      "cell_type": "code",
      "source": [
        "class Linear:\n",
        "    inputs: torch.Tensor = None\n",
        "\n",
        "    def __init__(self, _features, n_outputs):\n",
        "        self._w = torch.randn((_features, n_outputs))\n",
        "        self._b = torch.randn((1, n_outputs))\n",
        "\n",
        "    def forward(self, inputs):\n",
        "        self.inputs = inputs\n",
        "        return torch.mm(inputs, self._w) + self._b\n",
        "\n",
        "    def backward(self, dvalue, lr):\n",
        "        dweights = self.inputs.T @ dvalue\n",
        "        dbiases = dvalue.sum(dim=0)\n",
        "        dinputs = dvalue @ self._w.T\n",
        "\n",
        "        self._w -= lr * dweights\n",
        "        self._b -= lr * dbiases\n",
        "\n",
        "        return dinputs"
      ],
      "metadata": {
        "id": "8sYq0t21hkYx"
      },
      "execution_count": null,
      "outputs": []
    },
    {
      "cell_type": "markdown",
      "metadata": {
        "id": "uj5febreSSZ7"
      },
      "source": [
        "2.4.3.1 Модифицируйте класс `Linear` из __2.1.4__. ([вычисление градиентов](https://i.ibb.co/kgVR6m6/photo-2021-02-15-21-30-28.jpg))"
      ]
    },
    {
      "cell_type": "code",
      "execution_count": null,
      "metadata": {
        "id": "h9KcK2y1FtyT",
        "colab": {
          "base_uri": "https://localhost:8080/",
          "height": 1000
        },
        "outputId": "38a45aae-a289-44ac-dc3f-66222fa2ca85"
      },
      "outputs": [
        {
          "output_type": "stream",
          "name": "stdout",
          "text": [
            "Epoch: [1/1000], Loss: 22131.98828125\n",
            "Epoch: [11/1000], Loss: 13791.4150390625\n",
            "Epoch: [21/1000], Loss: 8609.0185546875\n",
            "Epoch: [31/1000], Loss: 5383.54638671875\n",
            "Epoch: [41/1000], Loss: 3372.638671875\n",
            "Epoch: [51/1000], Loss: 2116.79345703125\n",
            "Epoch: [61/1000], Loss: 1331.1278076171875\n",
            "Epoch: [71/1000], Loss: 838.7344360351562\n",
            "Epoch: [81/1000], Loss: 529.5780639648438\n",
            "Epoch: [91/1000], Loss: 335.1050109863281\n",
            "Epoch: [101/1000], Loss: 212.5355224609375\n",
            "Epoch: [111/1000], Loss: 135.1277313232422\n",
            "Epoch: [121/1000], Loss: 86.13768768310547\n",
            "Epoch: [131/1000], Loss: 55.06367111206055\n",
            "Epoch: [141/1000], Loss: 35.30656814575195\n",
            "Epoch: [151/1000], Loss: 22.7130126953125\n",
            "Epoch: [161/1000], Loss: 14.66374397277832\n",
            "Epoch: [171/1000], Loss: 9.503785133361816\n",
            "Epoch: [181/1000], Loss: 6.185474872589111\n",
            "Epoch: [191/1000], Loss: 4.044122219085693\n",
            "Epoch: [201/1000], Loss: 2.6571710109710693\n",
            "Epoch: [211/1000], Loss: 1.7551090717315674\n",
            "Epoch: [221/1000], Loss: 1.1658138036727905\n",
            "Epoch: [231/1000], Loss: 0.7790088653564453\n",
            "Epoch: [241/1000], Loss: 0.5238216519355774\n",
            "Epoch: [251/1000], Loss: 0.35451796650886536\n",
            "Epoch: [261/1000], Loss: 0.24156145751476288\n",
            "Epoch: [271/1000], Loss: 0.16572028398513794\n",
            "Epoch: [281/1000], Loss: 0.11446709930896759\n",
            "Epoch: [291/1000], Loss: 0.0796043798327446\n",
            "Epoch: [301/1000], Loss: 0.0557367242872715\n",
            "Epoch: [311/1000], Loss: 0.03927738592028618\n",
            "Epoch: [321/1000], Loss: 0.02785095013678074\n",
            "Epoch: [331/1000], Loss: 0.01986587606370449\n",
            "Epoch: [341/1000], Loss: 0.014248312450945377\n",
            "Epoch: [351/1000], Loss: 0.010270273312926292\n",
            "Epoch: [361/1000], Loss: 0.007439160253852606\n",
            "Epoch: [371/1000], Loss: 0.005411161109805107\n",
            "Epoch: [381/1000], Loss: 0.003951593302190304\n",
            "Epoch: [391/1000], Loss: 0.0028961526695638895\n",
            "Epoch: [401/1000], Loss: 0.00212957919575274\n",
            "Epoch: [411/1000], Loss: 0.0015693164896219969\n",
            "Epoch: [421/1000], Loss: 0.0011597630800679326\n",
            "Epoch: [431/1000], Loss: 0.000858610263094306\n",
            "Epoch: [441/1000], Loss: 0.000637085409834981\n",
            "Epoch: [451/1000], Loss: 0.0004732051456812769\n",
            "Epoch: [461/1000], Loss: 0.00035220597055740654\n",
            "Epoch: [471/1000], Loss: 0.0002625499910209328\n",
            "Epoch: [481/1000], Loss: 0.00019592646276578307\n",
            "Epoch: [491/1000], Loss: 0.00014631342492066324\n",
            "Epoch: [501/1000], Loss: 0.00010927317634923384\n",
            "Epoch: [511/1000], Loss: 8.177771815098822e-05\n",
            "Epoch: [521/1000], Loss: 6.130477413535118e-05\n",
            "Epoch: [531/1000], Loss: 4.587717921822332e-05\n",
            "Epoch: [541/1000], Loss: 3.4383694583084434e-05\n",
            "Epoch: [551/1000], Loss: 2.575471080490388e-05\n",
            "Epoch: [561/1000], Loss: 1.9336730474606156e-05\n",
            "Epoch: [571/1000], Loss: 1.4492707123281434e-05\n",
            "Epoch: [581/1000], Loss: 1.0883956747420598e-05\n",
            "Epoch: [591/1000], Loss: 8.171447916538455e-06\n",
            "Epoch: [601/1000], Loss: 6.131444933998864e-06\n",
            "Epoch: [611/1000], Loss: 4.631800948118325e-06\n",
            "Epoch: [621/1000], Loss: 3.4982656416104874e-06\n",
            "Epoch: [631/1000], Loss: 2.5899239517457318e-06\n",
            "Epoch: [641/1000], Loss: 1.9673400402098196e-06\n",
            "Epoch: [651/1000], Loss: 1.5189008308880148e-06\n",
            "Epoch: [661/1000], Loss: 1.178456841444131e-06\n",
            "Epoch: [671/1000], Loss: 8.993416713565239e-07\n",
            "Epoch: [681/1000], Loss: 6.799086236242147e-07\n",
            "Epoch: [691/1000], Loss: 4.902614136881311e-07\n",
            "Epoch: [701/1000], Loss: 3.515740445436677e-07\n",
            "Epoch: [711/1000], Loss: 2.538375838412321e-07\n",
            "Epoch: [721/1000], Loss: 2.0815068069168774e-07\n",
            "Epoch: [731/1000], Loss: 1.822205604185001e-07\n",
            "Epoch: [741/1000], Loss: 1.598388053025701e-07\n",
            "Epoch: [751/1000], Loss: 1.4394279901353002e-07\n",
            "Epoch: [761/1000], Loss: 1.3487918693044776e-07\n",
            "Epoch: [771/1000], Loss: 1.248253340691008e-07\n",
            "Epoch: [781/1000], Loss: 1.1929736842830607e-07\n",
            "Epoch: [791/1000], Loss: 1.1334834226772728e-07\n",
            "Epoch: [801/1000], Loss: 1.1019756129826419e-07\n",
            "Epoch: [811/1000], Loss: 1.0599630684282602e-07\n",
            "Epoch: [821/1000], Loss: 1.058979037793506e-07\n",
            "Epoch: [831/1000], Loss: 1.0411460493742197e-07\n",
            "Epoch: [841/1000], Loss: 1.0379173431829258e-07\n",
            "Epoch: [851/1000], Loss: 1.0394929006452003e-07\n",
            "Epoch: [861/1000], Loss: 1.0374616010722093e-07\n",
            "Epoch: [871/1000], Loss: 1.0372075820441751e-07\n",
            "Epoch: [881/1000], Loss: 1.0358029811641245e-07\n",
            "Epoch: [891/1000], Loss: 1.0355724100463704e-07\n",
            "Epoch: [901/1000], Loss: 1.0340068712366701e-07\n",
            "Epoch: [911/1000], Loss: 1.0342944989361058e-07\n",
            "Epoch: [921/1000], Loss: 1.0338691680544798e-07\n",
            "Epoch: [931/1000], Loss: 1.0338663969378104e-07\n",
            "Epoch: [941/1000], Loss: 1.0341669565150369e-07\n",
            "Epoch: [951/1000], Loss: 1.0342058942569565e-07\n",
            "Epoch: [961/1000], Loss: 1.0342630218929116e-07\n",
            "Epoch: [971/1000], Loss: 1.0345146961299179e-07\n",
            "Epoch: [981/1000], Loss: 1.0345740264483538e-07\n",
            "Epoch: [991/1000], Loss: 1.0341555167769911e-07\n",
            "Final Loss: 1.0341502587607465e-07\n"
          ]
        },
        {
          "output_type": "display_data",
          "data": {
            "text/plain": [
              "<Figure size 1000x500 with 1 Axes>"
            ],
            "image/png": "[encoded data removed]"
          },
          "metadata": {}
        },
        {
          "output_type": "display_data",
          "data": {
            "text/plain": [
              "<Figure size 1000x500 with 1 Axes>"
            ],
            "image/png": "[encoded data removed]"
          },
          "metadata": {}
        }
      ],
      "source": [
        "import matplotlib.pyplot as plt\n",
        "\n",
        "lr = 0.01\n",
        "num_epochs = 1000\n",
        "\n",
        "n_features = 4\n",
        "n_outputs = 1\n",
        "model = Linear(n_features, n_outputs)\n",
        "loss_function = MSELoss()\n",
        "\n",
        "X, y, coef = make_regression(\n",
        "  n_features=n_features, n_informative=4, coef=True, bias=0.5, n_samples=100\n",
        ")\n",
        "X = torch.tensor(X, dtype=torch.float32)\n",
        "y = torch.tensor(y, dtype=torch.float32).unsqueeze(1)\n",
        "\n",
        "losses = []\n",
        "\n",
        "for epoch in range (num_epochs):\n",
        "  y_pred = model.forward(X)\n",
        "  loss = loss_function.forward(y_pred, y)\n",
        "\n",
        "  dvalue = loss_function.backward()\n",
        "  model.backward(dvalue, learning_rate)\n",
        "\n",
        "  losses.append(loss.item())\n",
        "\n",
        "  if epoch % 10 == 0:\n",
        "    print (f'Epoch: [{epoch+1}/{num_epochs}], Loss: {loss.item()}')\n",
        "\n",
        "with torch.no_grad():\n",
        "  y_pred = model.forward(X)\n",
        "  final_loss = loss_function.forward(y_pred, y)\n",
        "  print (f'Final Loss: {final_loss.item()}')\n",
        "\n",
        "plt.figure(figsize=(10, 5))\n",
        "plt.plot(y, label='True')\n",
        "plt.plot(y_pred.numpy(), label='Predict')\n",
        "plt.xlabel('Sample')\n",
        "plt.ylabel('Value')\n",
        "plt.legend()\n",
        "plt.show()\n",
        "\n",
        "plt.figure(figsize=(10, 5))\n",
        "plt.plot(losses)\n",
        "plt.title('Loss by epochs')\n",
        "plt.xlabel('Epochs')\n",
        "plt.ylabel('Loss')\n",
        "plt.show()"
      ]
    },
    {
      "cell_type": "markdown",
      "metadata": {
        "id": "j3w1hT9MS_Lt"
      },
      "source": [
        "2.4.3.2 Создайте слой с одним нейроном. Используя класс MSELoss из 2.4.2, убедитесь, что модель обучается"
      ]
    },
    {
      "cell_type": "markdown",
      "metadata": {
        "id": "RTkJV-F8TVuN"
      },
      "source": [
        "2.4.4 Используя наработки из 2.4, создайте нейросеть и решите задачу регрессии.\n",
        "\n",
        "Предлагаемая архитектура:\n",
        "1. Полносвязный слой с 10 нейронами\n",
        "2. Активация ReLU\n",
        "3. Полносвязный слой с 1 нейроном"
      ]
    },
    {
      "cell_type": "code",
      "execution_count": null,
      "metadata": {
        "id": "axUjpPz-SvS1"
      },
      "outputs": [],
      "source": [
        "X = torch.linspace(-1, 1, 100).view(-1, 1)\n",
        "y = X.pow(2) + 0.2 * torch.rand(X.size())"
      ]
    }
  ],
  "metadata": {
    "colab": {
      "provenance": [],
      "include_colab_link": true
    },
    "kernelspec": {
      "display_name": "Python 3 (ipykernel)",
      "language": "python",
      "name": "python3"
    },
    "language_info": {
      "codemirror_mode": {
        "name": "ipython",
        "version": 3
      },
      "file_extension": ".py",
      "mimetype": "text/x-python",
      "name": "python",
      "nbconvert_exporter": "python",
      "pygments_lexer": "ipython3",
      "version": "3.11.8"
    }
  },
  "nbformat": 4,
  "nbformat_minor": 0
}